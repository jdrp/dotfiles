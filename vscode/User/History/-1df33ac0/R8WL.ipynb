{
 "cells": [
  {
   "cell_type": "code",
   "execution_count": null,
   "metadata": {
    "colab": {
     "base_uri": "https://localhost:8080/"
    },
    "id": "laRjVlWAKLa5",
    "outputId": "efae4352-8d10-4b8e-d324-fee760fdaf29"
   },
   "outputs": [
    {
     "name": "stdout",
     "output_type": "stream",
     "text": [
      "hola\n"
     ]
    }
   ],
   "source": [
    "print(\"hola\")"
   ]
  },
  {
   "cell_type": "code",
   "execution_count": null,
   "metadata": {
    "id": "RtH3nqjNKjSq"
   },
   "outputs": [],
   "source": [
    "import random\n",
    "import math"
   ]
  },
  {
   "cell_type": "code",
   "execution_count": null,
   "metadata": {
    "id": "aW9epyxlKPS7"
   },
   "outputs": [],
   "source": [
    "def funcion_mapeo()-> int:\n",
    "  rand_x= random.uniform(-1,1)\n",
    "  rand_y= random.uniform(-1,1)\n",
    "  dist_origin= math.sqrt(rand_x**2+rand_y**2)\n",
    "  if dist_origin <=1:\n",
    "    return 1\n",
    "  else:\n",
    "    return 0"
   ]
  },
  {
   "cell_type": "code",
   "execution_count": null,
   "metadata": {
    "colab": {
     "base_uri": "https://localhost:8080/"
    },
    "id": "kvdq7gehLEsy",
    "outputId": "8dd7ba7c-6a24-4b38-c17c-d2930accfeee"
   },
   "outputs": [
    {
     "data": {
      "text/plain": [
       "1"
      ]
     },
     "execution_count": 46,
     "metadata": {},
     "output_type": "execute_result"
    }
   ],
   "source": [
    "dentro_circulo()"
   ]
  },
  {
   "cell_type": "code",
   "execution_count": null,
   "metadata": {
    "id": "DNIFSYzRLuYJ"
   },
   "outputs": [],
   "source": [
    "samples=100000"
   ]
  },
  {
   "cell_type": "code",
   "execution_count": null,
   "metadata": {
    "id": "owv9b1MkN_d8"
   },
   "outputs": [],
   "source": [
    "def funcion_reduce(a:int,b:int)->int:\n",
    "  return a+b"
   ]
  },
  {
   "cell_type": "code",
   "execution_count": null,
   "metadata": {
    "id": "TRO_S7rvOIVn"
   },
   "outputs": [],
   "source": [
    "map_resutl=list(map(lambda row:funcion_mapeo(),range(samples)))"
   ]
  },
  {
   "cell_type": "code",
   "execution_count": null,
   "metadata": {
    "id": "Fw5acTE1PhP6"
   },
   "outputs": [],
   "source": []
  },
  {
   "cell_type": "code",
   "execution_count": null,
   "metadata": {
    "colab": {
     "base_uri": "https://localhost:8080/"
    },
    "id": "eJoflYUXPfK1",
    "outputId": "46c4e55a-a2a9-4973-cb00-91b57d5c2781"
   },
   "outputs": [
    {
     "data": {
      "text/plain": [
       "100000"
      ]
     },
     "execution_count": 50,
     "metadata": {},
     "output_type": "execute_result"
    }
   ],
   "source": [
    "len(range(samples))"
   ]
  },
  {
   "cell_type": "code",
   "execution_count": null,
   "metadata": {
    "colab": {
     "base_uri": "https://localhost:8080/"
    },
    "id": "XZgpTQr4Piu_",
    "outputId": "1adeab0a-a028-4bbc-f4c6-1426f421078c"
   },
   "outputs": [
    {
     "data": {
      "text/plain": [
       "100000"
      ]
     },
     "execution_count": 51,
     "metadata": {},
     "output_type": "execute_result"
    }
   ],
   "source": [
    "len(map_resutl)"
   ]
  },
  {
   "cell_type": "code",
   "execution_count": null,
   "metadata": {
    "id": "NFoQb9MkPl4I"
   },
   "outputs": [],
   "source": [
    "map_resutl"
   ]
  },
  {
   "cell_type": "code",
   "execution_count": null,
   "metadata": {
    "id": "TwW9RLu1Pm_A"
   },
   "outputs": [],
   "source": [
    "from functools import reduce"
   ]
  },
  {
   "cell_type": "code",
   "execution_count": null,
   "metadata": {
    "id": "SPrmTt5IPvD4"
   },
   "outputs": [],
   "source": [
    "reduced= reduce(lambda row_a,row_b:funcion_reduce(row_a,row_b),map_resutl)"
   ]
  },
  {
   "cell_type": "code",
   "execution_count": null,
   "metadata": {
    "colab": {
     "base_uri": "https://localhost:8080/"
    },
    "id": "XOHnyUWYQLGL",
    "outputId": "3bdba4c1-095c-4812-c271-b67e1acf5bd9"
   },
   "outputs": [
    {
     "data": {
      "text/plain": [
       "78587"
      ]
     },
     "execution_count": 55,
     "metadata": {},
     "output_type": "execute_result"
    }
   ],
   "source": [
    "reduced"
   ]
  },
  {
   "cell_type": "code",
   "execution_count": null,
   "metadata": {
    "id": "E9_MCdDOQM3z"
   },
   "outputs": [],
   "source": [
    "pi = (4*reduced)/samples"
   ]
  },
  {
   "cell_type": "code",
   "execution_count": null,
   "metadata": {
    "colab": {
     "base_uri": "https://localhost:8080/"
    },
    "id": "5Pv_VaG5QVqf",
    "outputId": "14296085-5ba9-4705-af7f-cb819d62e64b"
   },
   "outputs": [
    {
     "data": {
      "text/plain": [
       "3.14348"
      ]
     },
     "execution_count": 57,
     "metadata": {},
     "output_type": "execute_result"
    }
   ],
   "source": [
    "pi"
   ]
  },
  {
   "cell_type": "code",
   "execution_count": null,
   "metadata": {
    "colab": {
     "base_uri": "https://localhost:8080/"
    },
    "id": "VkV5gQxyUA-6",
    "outputId": "06f5c4fc-e1cd-4cc0-bce4-01c9e551c60d"
   },
   "outputs": [
    {
     "name": "stdout",
     "output_type": "stream",
     "text": [
      "Collecting wget\n",
      "  Downloading wget-3.2.zip (10 kB)\n",
      "  Preparing metadata (setup.py) ... \u001b[?25l\u001b[?25hdone\n",
      "Building wheels for collected packages: wget\n",
      "  Building wheel for wget (setup.py) ... \u001b[?25l\u001b[?25hdone\n",
      "  Created wheel for wget: filename=wget-3.2-py3-none-any.whl size=9657 sha256=9fcd4aa5b377cdf4e606640000310ec0601a6a2cfbb04c555c63595a3f880b86\n",
      "  Stored in directory: /root/.cache/pip/wheels/8b/f1/7f/5c94f0a7a505ca1c81cd1d9208ae2064675d97582078e6c769\n",
      "Successfully built wget\n",
      "Installing collected packages: wget\n",
      "Successfully installed wget-3.2\n"
     ]
    }
   ],
   "source": [
    "!pip install wget"
   ]
  },
  {
   "cell_type": "code",
   "execution_count": null,
   "metadata": {
    "id": "7WSVjtoyQWSq"
   },
   "outputs": [],
   "source": [
    "import wget"
   ]
  },
  {
   "cell_type": "code",
   "execution_count": null,
   "metadata": {
    "id": "_A4wv02DT-nL"
   },
   "outputs": [],
   "source": [
    "file_path=wget.download(\"https://gist.githubusercontent.com/jsdario/6d6c69398cb0c73111e49f1218960f79/raw/8d4fc4548d437e2a7203a5aeeace5477f598827d/el_quijote.txt\")"
   ]
  },
  {
   "cell_type": "code",
   "execution_count": null,
   "metadata": {
    "colab": {
     "base_uri": "https://localhost:8080/",
     "height": 35
    },
    "id": "4EBC1Za5UV8o",
    "outputId": "5365b7ee-ee3c-49c1-fa04-c67cc2859486"
   },
   "outputs": [
    {
     "data": {
      "application/vnd.google.colaboratory.intrinsic+json": {
       "type": "string"
      },
      "text/plain": [
       "'el_quijote.txt'"
      ]
     },
     "execution_count": 63,
     "metadata": {},
     "output_type": "execute_result"
    }
   ],
   "source": [
    "file_path"
   ]
  },
  {
   "cell_type": "code",
   "execution_count": null,
   "metadata": {
    "id": "TyvmJiOYUXPT"
   },
   "outputs": [],
   "source": [
    "file_1= open(file_path,'r')"
   ]
  },
  {
   "cell_type": "code",
   "execution_count": null,
   "metadata": {
    "colab": {
     "base_uri": "https://localhost:8080/"
    },
    "id": "ubyFcYlFUf9J",
    "outputId": "a52a7f3a-4c73-4578-ff63-5f30c19dab1b"
   },
   "outputs": [
    {
     "data": {
      "text/plain": [
       "<_io.TextIOWrapper name='el_quijote.txt' mode='r' encoding='UTF-8'>"
      ]
     },
     "execution_count": 65,
     "metadata": {},
     "output_type": "execute_result"
    }
   ],
   "source": [
    "file_1"
   ]
  },
  {
   "cell_type": "code",
   "execution_count": null,
   "metadata": {
    "id": "1lzE7PVXUg8s"
   },
   "outputs": [],
   "source": [
    "lines=file_1.readlines()"
   ]
  },
  {
   "cell_type": "code",
   "execution_count": null,
   "metadata": {
    "colab": {
     "base_uri": "https://localhost:8080/"
    },
    "id": "lSSjbKqPUmP-",
    "outputId": "db9cc86c-d96c-4d58-e03e-e79775a5ae1e"
   },
   "outputs": [
    {
     "data": {
      "text/plain": [
       "2186"
      ]
     },
     "execution_count": 68,
     "metadata": {},
     "output_type": "execute_result"
    }
   ],
   "source": [
    "len(lines)"
   ]
  },
  {
   "cell_type": "code",
   "execution_count": null,
   "metadata": {
    "id": "qUrlPkb-WgLD"
   },
   "outputs": [],
   "source": [
    "from typing import *"
   ]
  },
  {
   "cell_type": "code",
   "execution_count": null,
   "metadata": {
    "id": "qnxlNHXBUnNU"
   },
   "outputs": [],
   "source": [
    "def funcion_mapeo(linea:str)-> Dict[str,int]:\n",
    "  output= dict()\n",
    "  palabras = linea.split(\" \")\n",
    "  for  palabra in palabras:\n",
    "    if palabra in output:\n",
    "      output[palabra] = output[palabra] +1\n",
    "    else:\n",
    "      output[palabra] = 1\n",
    "  return output"
   ]
  },
  {
   "cell_type": "code",
   "execution_count": null,
   "metadata": {
    "colab": {
     "base_uri": "https://localhost:8080/"
    },
    "id": "-Ti1NegYXb4C",
    "outputId": "fb717c4d-735b-4a5e-abab-35f21bdd20c7"
   },
   "outputs": [
    {
     "data": {
      "text/plain": [
       "{'hola': 1, 'mundo': 1, 'mundial': 1}"
      ]
     },
     "execution_count": 88,
     "metadata": {},
     "output_type": "execute_result"
    }
   ],
   "source": [
    "funcion_mapeo(\"hola mundo mundial\")"
   ]
  },
  {
   "cell_type": "code",
   "execution_count": null,
   "metadata": {
    "id": "-JoCvxaxWZcR"
   },
   "outputs": [],
   "source": [
    "map_result=list(map(lambda linea:funcion_mapeo(linea=linea),lines))"
   ]
  },
  {
   "cell_type": "code",
   "execution_count": null,
   "metadata": {
    "id": "NvETcyFvX4Hy"
   },
   "outputs": [],
   "source": [
    "map_result[5]"
   ]
  },
  {
   "cell_type": "code",
   "execution_count": null,
   "metadata": {
    "id": "4mDYcCZ8WWoi"
   },
   "outputs": [],
   "source": [
    "def funcion_reduce(dict_a:Dict[str,int],dict_b:Dict[str,int])->Dict[str,int]:\n",
    "  output=dict_a.copy()\n",
    "  for palabra, apariciones in dict_b.items():\n",
    "    if palabra in output:\n",
    "      output[palabra]=output[palabra]+dict_b[palabra]\n",
    "    else:\n",
    "      output[palabra]=dict_b[palabra]\n",
    "  return output\n",
    "\n"
   ]
  },
  {
   "cell_type": "code",
   "execution_count": null,
   "metadata": {
    "id": "eLrOZuPaaIPd"
   },
   "outputs": [],
   "source": [
    "dict_a= {'hola': 3,  'ase': 1, 'adios': 1,\"que\":4}\n",
    "dict_b= {'hola': 1, 'mundo': 1, 'mundial': 1,\"que\":4}"
   ]
  },
  {
   "cell_type": "code",
   "execution_count": null,
   "metadata": {
    "colab": {
     "base_uri": "https://localhost:8080/"
    },
    "id": "RvgecM_MaXJu",
    "outputId": "c5969c85-c5ee-475c-c676-5da28ed56c26"
   },
   "outputs": [
    {
     "data": {
      "text/plain": [
       "{'hola': 4, 'ase': 1, 'adios': 1, 'que': 8, 'mundo': 1, 'mundial': 1}"
      ]
     },
     "execution_count": 96,
     "metadata": {},
     "output_type": "execute_result"
    }
   ],
   "source": [
    "funcion_reduce(dict_a,dict_b)"
   ]
  },
  {
   "cell_type": "code",
   "execution_count": null,
   "metadata": {
    "id": "MBsXu_URWbfQ"
   },
   "outputs": [],
   "source": [
    "reduced= reduce(lambda dict_a,dict_b:funcion_reduce(dict_a,dict_b),map_resutl)"
   ]
  },
  {
   "cell_type": "code",
   "execution_count": null,
   "metadata": {
    "colab": {
     "base_uri": "https://localhost:8080/"
    },
    "id": "maeFX78eaweU",
    "outputId": "c4c577ec-0c42-486c-b564-5e11c72ab8ce"
   },
   "outputs": [
    {
     "data": {
      "text/plain": [
       "{'DON': 6,\n",
       " 'QUIJOTE': 4,\n",
       " 'DE': 17,\n",
       " 'LA': 13,\n",
       " 'MANCHA\\n': 2,\n",
       " 'Miguel': 3,\n",
       " 'de': 8943,\n",
       " 'Cervantes': 1,\n",
       " 'Saavedra\\n': 1,\n",
       " '\\n': 1,\n",
       " 'PRIMERA': 1,\n",
       " 'PARTE\\n': 1,\n",
       " 'CAPÍTULO': 1,\n",
       " '1:': 1,\n",
       " 'Que': 33,\n",
       " 'trata': 21,\n",
       " 'la': 4938,\n",
       " 'condición': 23,\n",
       " 'y': 8033,\n",
       " 'ejercicio': 18,\n",
       " 'del': 1113,\n",
       " 'famoso': 48,\n",
       " 'hidalgo': 15,\n",
       " 'D.': 14,\n",
       " 'Quijote': 302,\n",
       " 'Mancha\\n': 4,\n",
       " 'En': 143,\n",
       " 'un': 892,\n",
       " 'lugar': 137,\n",
       " 'Mancha,': 28,\n",
       " 'cuyo': 26,\n",
       " 'nombre': 67,\n",
       " 'no': 2782,\n",
       " 'quiero': 97,\n",
       " 'acordarme,': 1,\n",
       " 'ha': 459,\n",
       " 'mucho': 141,\n",
       " 'tiempo': 138,\n",
       " 'que': 10341,\n",
       " 'vivía': 10,\n",
       " 'los': 2118,\n",
       " 'lanza': 17,\n",
       " 'en': 3879,\n",
       " 'astillero,': 1,\n",
       " 'adarga': 7,\n",
       " 'antigua,': 1,\n",
       " 'rocín': 5,\n",
       " 'flaco': 2,\n",
       " 'galgo': 2,\n",
       " 'corredor.': 1,\n",
       " 'Una': 2,\n",
       " 'olla': 2,\n",
       " 'algo': 55,\n",
       " 'más': 880,\n",
       " 'vaca': 1,\n",
       " 'carnero,': 1,\n",
       " 'salpicón': 1,\n",
       " 'las': 1472,\n",
       " 'noches,': 3,\n",
       " 'duelos': 1,\n",
       " 'quebrantos': 1,\n",
       " 'sábados,': 1,\n",
       " 'lentejas': 1,\n",
       " 'viernes,': 3,\n",
       " 'algún': 140,\n",
       " 'palomino': 1,\n",
       " 'añadidura': 4,\n",
       " 'domingos,': 1,\n",
       " 'consumían': 1,\n",
       " 'tres': 99,\n",
       " 'partes': 43,\n",
       " 'su': 1853,\n",
       " 'hacienda.': 3,\n",
       " 'El': 115,\n",
       " 'resto': 3,\n",
       " 'della': 16,\n",
       " 'concluían': 1,\n",
       " 'sayo': 3,\n",
       " 'velarte,': 1,\n",
       " 'calzas': 2,\n",
       " 'velludo': 1,\n",
       " 'para': 693,\n",
       " 'fiestas': 4,\n",
       " 'con': 2023,\n",
       " 'sus': 486,\n",
       " 'pantuflos': 1,\n",
       " 'lo': 1776,\n",
       " 'mismo,': 15,\n",
       " 'días': 89,\n",
       " 'entre': 156,\n",
       " 'semana': 2,\n",
       " 'se': 2380,\n",
       " 'honraba': 3,\n",
       " 'vellori': 1,\n",
       " 'fino.': 1,\n",
       " 'Tenía': 5,\n",
       " 'casa': 86,\n",
       " 'una': 594,\n",
       " 'ama': 16,\n",
       " 'pasaba': 23,\n",
       " 'cuarenta,': 1,\n",
       " 'sobrina': 9,\n",
       " 'llegaba': 12,\n",
       " 'a': 4721,\n",
       " 'veinte,': 2,\n",
       " 'mozo': 36,\n",
       " 'campo': 20,\n",
       " 'plaza,': 4,\n",
       " 'así': 321,\n",
       " 'ensillaba': 1,\n",
       " 'el': 3723,\n",
       " 'como': 1130,\n",
       " 'tomaba': 6,\n",
       " 'podadera.': 1,\n",
       " 'Frisaba': 1,\n",
       " 'edad': 30,\n",
       " 'nuestro': 98,\n",
       " 'cincuenta': 5,\n",
       " 'años,': 18,\n",
       " 'era': 451,\n",
       " 'complexión': 1,\n",
       " 'recia,': 1,\n",
       " 'seco': 6,\n",
       " 'carnes,': 3,\n",
       " 'enjuto': 2,\n",
       " 'rostro;': 6,\n",
       " 'gran': 135,\n",
       " 'madrugador': 1,\n",
       " 'amigo': 76,\n",
       " 'caza.': 1,\n",
       " 'Quieren': 1,\n",
       " 'decir': 208,\n",
       " 'tenía': 180,\n",
       " 'sobrenombre': 3,\n",
       " 'Quijada': 4,\n",
       " 'o': 512,\n",
       " 'Quesada': 2,\n",
       " '(que': 26,\n",
       " 'esto': 312,\n",
       " 'hay': 176,\n",
       " 'alguna': 147,\n",
       " 'diferencia': 5,\n",
       " 'autores': 7,\n",
       " 'deste': 66,\n",
       " 'caso': 52,\n",
       " 'escriben),': 1,\n",
       " 'aunque': 265,\n",
       " 'por': 1881,\n",
       " 'conjeturas': 2,\n",
       " 'verosímiles': 1,\n",
       " 'deja': 22,\n",
       " 'entender': 74,\n",
       " 'llama': 19,\n",
       " 'Quijana;': 1,\n",
       " 'pero': 294,\n",
       " 'importa': 9,\n",
       " 'poco': 185,\n",
       " 'cuento;': 1,\n",
       " 'basta': 16,\n",
       " 'narración': 3,\n",
       " 'dél': 29,\n",
       " 'salga': 5,\n",
       " 'punto': 89,\n",
       " 'verdad.': 1,\n",
       " 'Es,': 9,\n",
       " 'pues,': 112,\n",
       " 'saber,': 20,\n",
       " 'este': 326,\n",
       " 'sobredicho': 1,\n",
       " 'hidalgo,': 6,\n",
       " 'ratos': 7,\n",
       " 'estaba': 219,\n",
       " 'ocioso': 4,\n",
       " 'eran': 94,\n",
       " 'año)': 1,\n",
       " 'daba': 60,\n",
       " 'leer': 32,\n",
       " 'libros': 77,\n",
       " 'caballerías': 23,\n",
       " 'tanta': 99,\n",
       " 'afición': 4,\n",
       " 'gusto,': 29,\n",
       " 'olvidó': 3,\n",
       " 'casi': 62,\n",
       " 'todo': 508,\n",
       " 'caza,': 2,\n",
       " 'aun': 141,\n",
       " 'administración': 1,\n",
       " 'hacienda;': 2,\n",
       " 'llegó': 77,\n",
       " 'tanto': 219,\n",
       " 'curiosidad': 11,\n",
       " 'desatino': 5,\n",
       " 'esto,': 146,\n",
       " 'vendió': 1,\n",
       " 'muchas': 97,\n",
       " 'hanegas': 2,\n",
       " 'tierra': 78,\n",
       " 'sembradura,': 1,\n",
       " 'comprar': 6,\n",
       " 'leer;': 3,\n",
       " 'llevó': 20,\n",
       " 'todos': 372,\n",
       " 'cuantos': 35,\n",
       " 'pudo': 49,\n",
       " 'haber': 122,\n",
       " 'dellos;': 1,\n",
       " 'ningunos': 1,\n",
       " 'le': 1799,\n",
       " 'parecían': 9,\n",
       " 'tan': 750,\n",
       " 'bien': 451,\n",
       " 'compuso': 5,\n",
       " 'Feliciano': 1,\n",
       " 'Silva:': 1,\n",
       " 'porque': 688,\n",
       " 'claridad': 3,\n",
       " 'prosa,': 3,\n",
       " 'aquellas': 61,\n",
       " 'intrincadas': 1,\n",
       " 'razones': 81,\n",
       " 'suyas,': 10,\n",
       " 'perlas;': 1,\n",
       " 'cuando': 353,\n",
       " 'aquellos': 88,\n",
       " 'requiebros': 1,\n",
       " 'cartas': 5,\n",
       " 'desafío,': 1,\n",
       " 'donde': 342,\n",
       " 'hallaba': 13,\n",
       " 'escrito:': 1,\n",
       " 'razón': 64,\n",
       " 'sinrazón': 4,\n",
       " 'mi': 851,\n",
       " 'hace,': 11,\n",
       " 'tal': 141,\n",
       " 'manera': 122,\n",
       " 'enflaquece,': 1,\n",
       " 'me': 1153,\n",
       " 'quejo': 2,\n",
       " 'vuestra': 445,\n",
       " 'fermosura,': 5,\n",
       " 'también': 103,\n",
       " 'leía:': 1,\n",
       " 'altos': 9,\n",
       " 'cielos': 3,\n",
       " 'divinidad': 1,\n",
       " 'divinamente': 1,\n",
       " 'estrellas': 5,\n",
       " 'fortifican,': 1,\n",
       " 'os': 222,\n",
       " 'hacen': 30,\n",
       " 'merecedora': 1,\n",
       " 'merecimiento': 1,\n",
       " 'merece': 10,\n",
       " 'grandeza.': 2,\n",
       " 'Con': 54,\n",
       " 'estas': 117,\n",
       " 'semejantes': 31,\n",
       " 'perdía': 2,\n",
       " 'pobre': 33,\n",
       " 'caballero': 200,\n",
       " 'juicio,': 21,\n",
       " 'desvelábase': 1,\n",
       " 'entenderlas,': 1,\n",
       " 'desentrañarles': 1,\n",
       " 'sentido,': 6,\n",
       " 'sacara,': 1,\n",
       " 'ni': 615,\n",
       " 'entendiera': 1,\n",
       " 'mismo': 98,\n",
       " 'Aristóteles,': 1,\n",
       " 'si': 899,\n",
       " 'resucitara': 1,\n",
       " 'sólo': 112,\n",
       " 'ello.': 5,\n",
       " 'No': 124,\n",
       " 'muy': 299,\n",
       " 'heridas': 5,\n",
       " 'don': 712,\n",
       " 'Belianis': 1,\n",
       " 'recibía,': 1,\n",
       " 'imaginaba': 6,\n",
       " 'grandes': 39,\n",
       " 'maestros': 1,\n",
       " 'hubiesen': 7,\n",
       " 'curado,': 2,\n",
       " 'dejaría': 4,\n",
       " 'tener': 122,\n",
       " 'rostro': 38,\n",
       " 'cuerpo': 33,\n",
       " 'lleno': 23,\n",
       " 'cicatrices': 1,\n",
       " 'señales;': 1,\n",
       " 'alababa': 1,\n",
       " 'autor': 21,\n",
       " 'aquel': 293,\n",
       " 'acabar': 31,\n",
       " 'libro': 29,\n",
       " 'promesa': 4,\n",
       " 'aquella': 211,\n",
       " 'inacabable': 1,\n",
       " 'aventura,': 18,\n",
       " 'veces': 77,\n",
       " 'vino': 72,\n",
       " 'deseo': 69,\n",
       " 'tomar': 55,\n",
       " 'pluma,': 4,\n",
       " 'darle': 30,\n",
       " 'fin': 71,\n",
       " 'al': 800,\n",
       " 'pie': 45,\n",
       " 'letra': 13,\n",
       " 'allí': 238,\n",
       " 'promete;': 2,\n",
       " 'sin': 614,\n",
       " 'duda': 67,\n",
       " 'hiciera,': 2,\n",
       " 'saliera': 3,\n",
       " 'ello,': 18,\n",
       " 'otros': 101,\n",
       " 'mayores': 21,\n",
       " 'continuos': 5,\n",
       " 'pensamientos': 23,\n",
       " 'estorbaran.\\n': 1,\n",
       " 'Tuvo': 1,\n",
       " 'competencia': 2,\n",
       " 'cura': 120,\n",
       " 'hombre': 97,\n",
       " 'docto': 3,\n",
       " 'graduado': 2,\n",
       " 'Sigüenza),': 1,\n",
       " 'sobre': 188,\n",
       " 'cuál': 21,\n",
       " 'había': 651,\n",
       " 'sido': 87,\n",
       " 'mejor': 142,\n",
       " 'caballero,': 90,\n",
       " 'Palmerín': 3,\n",
       " 'Inglaterra': 2,\n",
       " 'Amadís': 24,\n",
       " 'Gaula;': 1,\n",
       " 'mas': 152,\n",
       " 'maese': 8,\n",
       " 'Nicolás,': 6,\n",
       " 'barbero': 53,\n",
       " 'pueblo,': 9,\n",
       " 'decía': 65,\n",
       " 'ninguno': 44,\n",
       " 'Febo,': 1,\n",
       " 'alguno': 38,\n",
       " 'podía': 118,\n",
       " 'comparar,': 1,\n",
       " 'Galaor,': 4,\n",
       " 'hermano': 36,\n",
       " 'Gaula,': 9,\n",
       " 'acomodada': 1,\n",
       " 'todo;': 7,\n",
       " 'melindroso,': 1,\n",
       " 'llorón': 1,\n",
       " 'hermano,': 14,\n",
       " 'valentía': 7,\n",
       " 'iba': 83,\n",
       " 'zaga.\\n': 1,\n",
       " 'resolución,': 23,\n",
       " 'él': 625,\n",
       " 'enfrascó': 1,\n",
       " 'lectura,': 1,\n",
       " 'pasaban': 12,\n",
       " 'noches': 6,\n",
       " 'leyendo': 10,\n",
       " 'claro': 21,\n",
       " 'claro,': 4,\n",
       " 'turbio': 1,\n",
       " 'turbio,': 1,\n",
       " 'así,': 160,\n",
       " 'dormir': 22,\n",
       " 'leer,': 12,\n",
       " 'secó': 1,\n",
       " 'cerebro,': 1,\n",
       " 'perder': 30,\n",
       " 'juicio.': 4,\n",
       " 'Llenósele': 1,\n",
       " 'fantasía': 3,\n",
       " 'aquello': 68,\n",
       " 'leía': 4,\n",
       " 'libros,': 22,\n",
       " 'encantamientos,': 3,\n",
       " 'pendencias,': 8,\n",
       " 'batallas,': 8,\n",
       " 'desafíos,': 3,\n",
       " 'heridas,': 2,\n",
       " 'requiebros,': 1,\n",
       " 'amores,': 9,\n",
       " 'tormentas': 1,\n",
       " 'disparates': 16,\n",
       " 'imposibles,': 2,\n",
       " 'asentósele': 1,\n",
       " 'modo': 65,\n",
       " 'imaginación': 27,\n",
       " 'verdad': 119,\n",
       " 'toda': 160,\n",
       " 'máquina': 6,\n",
       " 'soñadas': 3,\n",
       " 'invenciones': 5,\n",
       " 'leía,': 1,\n",
       " 'otra\\n': 1,\n",
       " 'historia': 52,\n",
       " 'cierta': 20,\n",
       " 'mundo.\\n': 12,\n",
       " 'Decía': 7,\n",
       " 'él,': 90,\n",
       " 'Cid': 4,\n",
       " 'Ruy': 2,\n",
       " 'Díaz': 1,\n",
       " 'buen': 199,\n",
       " 'caballero;': 7,\n",
       " 'ver': 199,\n",
       " 'ardiente': 2,\n",
       " 'espada,': 27,\n",
       " 'revés': 12,\n",
       " 'partido': 3,\n",
       " 'medio': 36,\n",
       " 'dos': 282,\n",
       " 'fieros': 2,\n",
       " 'descomunales': 1,\n",
       " 'gigantes.': 1,\n",
       " 'Mejor': 4,\n",
       " 'Bernardo': 5,\n",
       " 'Carpio,': 3,\n",
       " 'Roncesvalle': 1,\n",
       " 'muerto': 37,\n",
       " 'Roldán': 6,\n",
       " 'encantado,': 19,\n",
       " 'valiéndose': 1,\n",
       " 'industria': 15,\n",
       " 'Hércules,': 1,\n",
       " 'ahogó': 2,\n",
       " 'Anteo,': 1,\n",
       " 'hijo': 27,\n",
       " 'Tierra,': 1,\n",
       " 'brazos.': 3,\n",
       " 'gigante': 19,\n",
       " 'Morgante,': 1,\n",
       " 'ser': 466,\n",
       " 'generación': 1,\n",
       " 'gigantesca,': 1,\n",
       " 'son': 170,\n",
       " 'soberbios': 2,\n",
       " 'descomedidos,': 1,\n",
       " 'solo': 34,\n",
       " 'afable': 1,\n",
       " 'criado;': 4,\n",
       " 'Reinaldos': 3,\n",
       " 'Montalbán,': 2,\n",
       " 'veía': 17,\n",
       " 'salir': 65,\n",
       " 'castillo': 38,\n",
       " 'robar': 3,\n",
       " 'topaba,': 1,\n",
       " 'Allende': 1,\n",
       " 'robó': 3,\n",
       " 'ídolo': 1,\n",
       " 'Mahoma,': 2,\n",
       " 'oro,': 12,\n",
       " 'según': 77,\n",
       " 'dice': 49,\n",
       " 'historia.': 6,\n",
       " 'Diera': 1,\n",
       " 'dar': 164,\n",
       " 'mano': 93,\n",
       " 'coces': 7,\n",
       " 'traidor': 14,\n",
       " 'Galalón,': 1,\n",
       " 'añadidura.\\n': 1,\n",
       " 'efecto,': 14,\n",
       " 'rematado': 1,\n",
       " 'ya': 376,\n",
       " 'extraño': 15,\n",
       " 'pensamiento': 27,\n",
       " 'jamás': 78,\n",
       " 'dio': 120,\n",
       " 'loco': 16,\n",
       " 'mundo,': 46,\n",
       " 'fue': 343,\n",
       " 'pareció': 49,\n",
       " 'convenible': 1,\n",
       " 'necesario,': 2,\n",
       " 'aumento': 4,\n",
       " 'honra,': 10,\n",
       " 'servicio': 12,\n",
       " 'república,': 3,\n",
       " 'hacerse': 15,\n",
       " 'andante,': 28,\n",
       " 'e': 46,\n",
       " 'irse': 21,\n",
       " 'mundo': 67,\n",
       " 'armas': 42,\n",
       " 'caballo': 46,\n",
       " 'buscar': 45,\n",
       " 'aventuras,': 13,\n",
       " 'ejercitarse': 1,\n",
       " 'leído,': 7,\n",
       " 'caballeros': 127,\n",
       " 'andantes': 48,\n",
       " 'ejercitaban,': 1,\n",
       " 'deshaciendo': 2,\n",
       " 'género': 27,\n",
       " 'agravio,': 6,\n",
       " 'poniéndose': 4,\n",
       " 'ocasiones': 4,\n",
       " 'peligros,': 5,\n",
       " 'acabándolos,': 1,\n",
       " 'cobrase': 2,\n",
       " 'eterno': 5,\n",
       " 'fama.\\n': 2,\n",
       " 'Imaginábase': 1,\n",
       " 'coronado': 2,\n",
       " 'valor': 53,\n",
       " 'brazo': 34,\n",
       " 'menos': 97,\n",
       " 'imperio': 6,\n",
       " 'Trapisonda:': 1,\n",
       " 'estos': 114,\n",
       " 'agradables': 3,\n",
       " 'pensamientos,': 9,\n",
       " 'llevado': 18,\n",
       " 'estraño': 2,\n",
       " 'gusto': 69,\n",
       " 'ellos': 145,\n",
       " 'sentía,': 2,\n",
       " 'dió': 20,\n",
       " 'priesa': 21,\n",
       " 'poner': 80,\n",
       " 'efecto': 9,\n",
       " 'deseaba.': 2,\n",
       " 'Y': 407,\n",
       " 'primero': 74,\n",
       " 'hizo,': 13,\n",
       " 'limpiar': 2,\n",
       " 'unas': 35,\n",
       " 'armas,': 27,\n",
       " 'habían': 139,\n",
       " 'bisabuelos,': 1,\n",
       " 'que,': 310,\n",
       " 'tomadas': 1,\n",
       " 'orín': 1,\n",
       " 'llenas': 5,\n",
       " 'moho,': 1,\n",
       " 'luengos': 6,\n",
       " 'siglos': 7,\n",
       " 'estaban': 54,\n",
       " 'puestas': 9,\n",
       " 'olvidadas': 1,\n",
       " 'rincón.': 1,\n",
       " 'Limpiólas': 1,\n",
       " 'aderezólas': 1,\n",
       " 'pudo;': 2,\n",
       " 'vió': 29,\n",
       " 'tenían': 31,\n",
       " 'falta,': 5,\n",
       " 'celada': 10,\n",
       " 'encaje,': 2,\n",
       " 'sino': 312,\n",
       " 'morrión': 2,\n",
       " 'simple;': 3,\n",
       " 'suplió': 1,\n",
       " 'industria,': 6,\n",
       " 'cartones': 1,\n",
       " 'hizo': 118,\n",
       " 'media': 20,\n",
       " 'celada,': 9,\n",
       " 'encajada': 1,\n",
       " 'morrión,': 2,\n",
       " 'hacía': 33,\n",
       " 'apariencia': 4,\n",
       " 'entera.': 1,\n",
       " 'Es': 6,\n",
       " 'probar': 11,\n",
       " 'fuerte,': 10,\n",
       " 'estar': 67,\n",
       " 'riesgo': 2,\n",
       " 'cuchillada,': 1,\n",
       " 'sacó': 15,\n",
       " 'golpes,': 6,\n",
       " 'deshizo': 4,\n",
       " 'hecho': 98,\n",
       " 'semana:': 1,\n",
       " 'dejó': 50,\n",
       " 'parecerle': 11,\n",
       " 'mal': 226,\n",
       " 'facilidad': 20,\n",
       " 'pedazos,': 5,\n",
       " 'asegurarse': 1,\n",
       " 'peligro,': 7,\n",
       " 'tornó': 17,\n",
       " 'hacer': 278,\n",
       " 'nuevo,': 9,\n",
       " 'poniéndole': 5,\n",
       " 'barras': 2,\n",
       " 'hierro': 8,\n",
       " 'dentro': 19,\n",
       " 'manera,': 54,\n",
       " 'quedó': 70,\n",
       " 'satisfecho': 12,\n",
       " 'fortaleza;': 1,\n",
       " 'y,': 164,\n",
       " 'querer': 47,\n",
       " 'nueva': 20,\n",
       " 'experiencia': 19,\n",
       " 'ella,': 65,\n",
       " 'diputó': 2,\n",
       " 'tuvo': 60,\n",
       " 'finísima': 1,\n",
       " 'encaje.': 1,\n",
       " 'Fue': 10,\n",
       " 'luego': 169,\n",
       " 'rocín,': 5,\n",
       " 'cuartos': 3,\n",
       " 'real,': 6,\n",
       " 'tachas': 2,\n",
       " 'Gonela,': 1,\n",
       " 'tantum': 1,\n",
       " 'pellis,': 1,\n",
       " 'et': 1,\n",
       " 'ossa': 1,\n",
       " 'fuit,': 1,\n",
       " 'Bucéfalo': 1,\n",
       " 'Alejandro,': 4,\n",
       " 'Babieca': 3,\n",
       " 'igualaban.': 1,\n",
       " 'Cuatro': 3,\n",
       " 'pasaron': 18,\n",
       " 'imaginar': 12,\n",
       " 'qué': 228,\n",
       " 'podría:': 1,\n",
       " 'porque,': 30,\n",
       " 'sí': 70,\n",
       " 'famoso,': 3,\n",
       " 'bueno': 34,\n",
       " 'sí,': 27,\n",
       " 'estuviese': 15,\n",
       " 'conocido;': 1,\n",
       " 'procuraba': 8,\n",
       " 'acomodársele,': 1,\n",
       " 'declarase': 3,\n",
       " 'quien': 305,\n",
       " 'sido,': 1,\n",
       " 'antes': 120,\n",
       " 'fuese': 83,\n",
       " 'entones:': 1,\n",
       " 'pues': 229,\n",
       " 'puesto': 149,\n",
       " 'razón,': 6,\n",
       " 'mudando': 1,\n",
       " 'señor': 275,\n",
       " 'estado,': 15,\n",
       " 'mudase': 2,\n",
       " 'nombre;': 1,\n",
       " 'estruendo,': 1,\n",
       " 'convenía': 13,\n",
       " 'orden': 50,\n",
       " 'nuevo': 52,\n",
       " 'profesaba:': 1,\n",
       " 'después': 105,\n",
       " 'muchos': 80,\n",
       " 'nombres': 11,\n",
       " 'formó,': 1,\n",
       " 'borró': 1,\n",
       " 'quitó,': 3,\n",
       " 'añadió,': 1,\n",
       " 'memoria': 60,\n",
       " 'imaginación,': 3,\n",
       " 'llamar': 22,\n",
       " 'Rocinante,': 67,\n",
       " 'parecer': 51,\n",
       " 'alto,': 6,\n",
       " 'sonoro': 1,\n",
       " 'significativo': 2,\n",
       " 'ahora': 160,\n",
       " 'era,': 21,\n",
       " 'rocines': 1,\n",
       " 'mundo.': 23,\n",
       " 'Puesto': 2,\n",
       " 'caballo,': 35,\n",
       " 'quiso': 84,\n",
       " 'ponérsele': 1,\n",
       " 'pensamiento,': 15,\n",
       " 'duró': 1,\n",
       " 'ocho': 13,\n",
       " 'días,': 17,\n",
       " 'cabo': 58,\n",
       " 'Quijote,': 265,\n",
       " 'queda': 28,\n",
       " 'dicho,': 93,\n",
       " 'tomaron': 4,\n",
       " 'ocasión': 67,\n",
       " 'esta': 292,\n",
       " 'verdadera': 27,\n",
       " 'historia,': 18,\n",
       " 'debía': 48,\n",
       " 'Quijada,': 1,\n",
       " 'quisieron': 8,\n",
       " 'decir.': 2,\n",
       " 'Pero': 95,\n",
       " 'acordándose': 2,\n",
       " 'valeroso': 33,\n",
       " 'Amadís,': 7,\n",
       " 'contentado': 2,\n",
       " 'llamarse': 7,\n",
       " 'secas,': 1,\n",
       " 'añadió': 4,\n",
       " 'reino': 33,\n",
       " 'patria,': 6,\n",
       " 'hacerla': 6,\n",
       " 'famosa,': 1,\n",
       " 'llamó': 9,\n",
       " 'quiso,': 12,\n",
       " 'añadir': 5,\n",
       " 'suyo': 18,\n",
       " 'suya,': 13,\n",
       " 'declaraba': 6,\n",
       " 'vivo': 13,\n",
       " 'su\\n': 3,\n",
       " 'linaje': 8,\n",
       " 'della.\\n': 3,\n",
       " 'Limpias,': 1,\n",
       " 'confirmándose': 1,\n",
       " 'faltaba': 12,\n",
       " 'otra': 261,\n",
       " 'cosa,': 24,\n",
       " 'dama': 14,\n",
       " 'enamorarse,': 1,\n",
       " 'andante': 52,\n",
       " 'árbol': 5,\n",
       " 'hojas': 5,\n",
       " 'fruto,': 1,\n",
       " 'alma.': 8,\n",
       " 'Decíase': 1,\n",
       " 'él:': 2,\n",
       " 'yo': 813,\n",
       " 'malos': 18,\n",
       " 'mis': 168,\n",
       " 'pecados,': 2,\n",
       " 'buena': 175,\n",
       " 'suerte,': 20,\n",
       " 'encuentro': 5,\n",
       " 'ahí': 22,\n",
       " 'gigante,': 21,\n",
       " 'ordinario': 8,\n",
       " 'les': 188,\n",
       " 'acontece': 1,\n",
       " 'andantes,': 25,\n",
       " 'derribo': 1,\n",
       " 'encuentro,': 2,\n",
       " 'parto': 4,\n",
       " 'mitad': 53,\n",
       " 'cuerpo,': 16,\n",
       " 'finalmente,': 29,\n",
       " 'venzo': 1,\n",
       " 'rindo,': 1,\n",
       " '¿no': 20,\n",
       " 'será': 103,\n",
       " 'quién': 81,\n",
       " 'enviarle': 1,\n",
       " 'presentado,': 1,\n",
       " 'hinque': 1,\n",
       " 'rodillas': 10,\n",
       " 'ante': 22,\n",
       " 'dulce': 13,\n",
       " 'señora,': 53,\n",
       " 'diga': 13,\n",
       " 'voz': 61,\n",
       " 'humilde': 4,\n",
       " 'rendida:': 1,\n",
       " 'soy': 90,\n",
       " 'Caraculiambro,': 1,\n",
       " 'ínsula': 10,\n",
       " 'Malindrania,': 1,\n",
       " 'venció': 3,\n",
       " 'singular': 5,\n",
       " 'batalla': 23,\n",
       " 'debe': 72,\n",
       " 'alabado': 2,\n",
       " 'cual': 326,\n",
       " 'mandó': 23,\n",
       " 'presentase': 1,\n",
       " 'merced,': 95,\n",
       " 'grandeza': 12,\n",
       " 'disponga': 1,\n",
       " 'mí': 118,\n",
       " 'talante?': 1,\n",
       " '¡Oh,': 6,\n",
       " 'cómo': 109,\n",
       " 'holgó': 2,\n",
       " 'hubo': 70,\n",
       " 'discurso,': 6,\n",
       " 'halló': 40,\n",
       " 'dama!': 1,\n",
       " 'fue,': 12,\n",
       " 'cree,': 1,\n",
       " 'cerca': 27,\n",
       " 'moza': 13,\n",
       " 'labradora': 5,\n",
       " 'parecer,': 29,\n",
       " 'anduvo': 5,\n",
       " 'enamorado,': 11,\n",
       " 'entiende,': 1,\n",
       " 'ella': 269,\n",
       " 'supo': 26,\n",
       " 'cata': 2,\n",
       " 'Llamábase': 2,\n",
       " 'Aldonza': 5,\n",
       " 'Lorenzo,': 2,\n",
       " 'título': 14,\n",
       " 'señora': 156,\n",
       " 'pensamientos;': 7,\n",
       " 'buscándole': 3,\n",
       " 'desdijese': 1,\n",
       " 'suyo,': 21,\n",
       " 'tirase': 2,\n",
       " 'encaminase': 1,\n",
       " 'princesa': 36,\n",
       " 'llamarla': 3,\n",
       " 'Dulcinea': 42,\n",
       " 'Toboso,': 36,\n",
       " 'natural': 36,\n",
       " 'músico': 7,\n",
       " 'peregrino': 2,\n",
       " 'significativo,': 1,\n",
       " 'demás': 57,\n",
       " 'cosas': 147,\n",
       " 'puesto.\\n': 5,\n",
       " 'Capítulo': 53,\n",
       " '2:': 1,\n",
       " 'primera': 33,\n",
       " 'salida': 10,\n",
       " 'ingenioso': 3,\n",
       " 'Quijote\\n': 8,\n",
       " 'Hechas,': 2,\n",
       " 'prevenciones,': 3,\n",
       " 'aguardar': 10,\n",
       " 'apretándole': 1,\n",
       " 'ello': 32,\n",
       " 'falta': 41,\n",
       " 'pensaba': 37,\n",
       " 'tardanza,': 2,\n",
       " 'agravios': 6,\n",
       " 'deshacer,': 1,\n",
       " 'tuertos': 3,\n",
       " 'enderezar,': 1,\n",
       " 'sinrazones': 3,\n",
       " 'enmendar,': 1,\n",
       " 'abusos': 1,\n",
       " 'mejorar,': 1,\n",
       " 'deudas': 1,\n",
       " 'satisfacer;': 1,\n",
       " 'parte': 126,\n",
       " 'persona': 48,\n",
       " 'intención,': 8,\n",
       " 'nadie': 41,\n",
       " 'viese,': 7,\n",
       " 'mañana,': 14,\n",
       " 'día': 89,\n",
       " 'uno': 149,\n",
       " 'calurosos': 1,\n",
       " 'mes': 7,\n",
       " 'Julio),': 1,\n",
       " 'armó': 2,\n",
       " 'todas': 149,\n",
       " 'subió': 16,\n",
       " 'puesta': 15,\n",
       " 'compuesta': 3,\n",
       " 'embrazó': 5,\n",
       " 'adarga,': 11,\n",
       " 'tomó': 44,\n",
       " 'lanza,': 14,\n",
       " 'puerta': 31,\n",
       " 'falsa': 6,\n",
       " 'corral,': 12,\n",
       " 'salió': 33,\n",
       " 'grandísimo': 16,\n",
       " 'contento': 38,\n",
       " 'alborozo': 1,\n",
       " 'cuánta': 6,\n",
       " 'dado': 57,\n",
       " 'principio': 31,\n",
       " 'deseo.': 4,\n",
       " 'Mas': 47,\n",
       " 'apenas': 43,\n",
       " 'campo,': 12,\n",
       " 'asaltó': 1,\n",
       " 'terrible,': 3,\n",
       " 'tal,': 19,\n",
       " 'hiciera': 18,\n",
       " 'dejar': 61,\n",
       " 'comenzada': 1,\n",
       " 'empresa:': 1,\n",
       " 'armado': 19,\n",
       " 'conforme': 12,\n",
       " 'ley': 11,\n",
       " 'caballería,': 24,\n",
       " 'ningún': 35,\n",
       " 'qeu': 11,\n",
       " 'fuera,': 12,\n",
       " 'llevar': 47,\n",
       " 'blancas,': 2,\n",
       " 'novel': 3,\n",
       " 'empresa': 13,\n",
       " 'escudo,': 4,\n",
       " 'hasta': 209,\n",
       " 'esfuerzo': 5,\n",
       " 'ganase.\\n': 1,\n",
       " 'Estos': 4,\n",
       " 'hicieron': 35,\n",
       " 'titubear': 3,\n",
       " 'propósito;': 2,\n",
       " 'pudiendo': 9,\n",
       " 'locura': 25,\n",
       " 'alguna,': 32,\n",
       " 'propuso': 9,\n",
       " 'armar': 3,\n",
       " 'topase,': 1,\n",
       " 'imitación': 7,\n",
       " 'hicieron,': 6,\n",
       " 'leído': 29,\n",
       " 'tenían.': 5,\n",
       " 'blancas': 6,\n",
       " 'limpiarlas': 1,\n",
       " 'teniendo': 10,\n",
       " 'lugar,': 31,\n",
       " 'fuesen': 23,\n",
       " 'armiño:': 1,\n",
       " 'quietó': 1,\n",
       " 'prosiguió': 22,\n",
       " 'camino,': 30,\n",
       " 'otro': 195,\n",
       " 'quería,': 6,\n",
       " 'creyendo': 17,\n",
       " 'consistía': 3,\n",
       " 'fuerza': 60,\n",
       " 'aventuras.': 3,\n",
       " 'Yendo,': 4,\n",
       " 'caminando': 4,\n",
       " 'flamante': 1,\n",
       " 'aventurero,': 3,\n",
       " 'hablando': 15,\n",
       " 'consigo': 17,\n",
       " 'diciendo:': 19,\n",
       " '¿Quién': 19,\n",
       " 'venideros': 5,\n",
       " 'tiempos,': 5,\n",
       " 'ciando': 1,\n",
       " 'luz': 18,\n",
       " 'famosos': 11,\n",
       " 'hechos,': 4,\n",
       " 'sabio': 23,\n",
       " 'escribiere,': 1,\n",
       " 'ponga,': 1,\n",
       " 'llegue': 11,\n",
       " 'contar': 15,\n",
       " 'manera?': 1,\n",
       " '\"Apenas': 1,\n",
       " 'rubicundo': 1,\n",
       " 'Apolo': 2,\n",
       " 'tendido': 11,\n",
       " 'faz': 3,\n",
       " 'ancha': 2,\n",
       " 'espaciosa': 2,\n",
       " 'doradas': 1,\n",
       " 'hebras': 2,\n",
       " 'hermosos': 4,\n",
       " 'cabellos,': 5,\n",
       " 'pequeños': 2,\n",
       " 'pintados': 2,\n",
       " 'pajarillos': 2,\n",
       " 'arpadas': 1,\n",
       " 'lenguas': 5,\n",
       " 'saludado': 1,\n",
       " 'meliflua': 1,\n",
       " 'armonía': 1,\n",
       " 'venida': 9,\n",
       " 'rosada': 1,\n",
       " 'aurora': 1,\n",
       " 'dejando': 24,\n",
       " 'blanda': 5,\n",
       " 'cama': 15,\n",
       " 'celoso': 4,\n",
       " 'marido,': 11,\n",
       " 'puertas': 10,\n",
       " 'balcones': 2,\n",
       " 'manchego': 2,\n",
       " 'horizonte': 1,\n",
       " 'mortales': 3,\n",
       " 'mostraba,': 3,\n",
       " 'ociosas': 1,\n",
       " 'plumas,': 2,\n",
       " 'comenzó': 72,\n",
       " 'caminar': 11,\n",
       " 'antiguo': 6,\n",
       " ...}"
      ]
     },
     "execution_count": 94,
     "metadata": {},
     "output_type": "execute_result"
    }
   ],
   "source": [
    "reduced"
   ]
  },
  {
   "cell_type": "code",
   "execution_count": null,
   "metadata": {
    "id": "mzB_OBS-YJHw"
   },
   "outputs": [],
   "source": [
    "sumador= lambda a,b:a+b"
   ]
  },
  {
   "cell_type": "code",
   "execution_count": null,
   "metadata": {
    "colab": {
     "base_uri": "https://localhost:8080/"
    },
    "id": "-SlgfflVYMmj",
    "outputId": "739f8791-932c-41db-eb61-a19d4455b53a"
   },
   "outputs": [
    {
     "data": {
      "text/plain": [
       "3"
      ]
     },
     "execution_count": 79,
     "metadata": {},
     "output_type": "execute_result"
    }
   ],
   "source": [
    "sumador(1,2)"
   ]
  },
  {
   "cell_type": "code",
   "execution_count": null,
   "metadata": {
    "id": "BwA7zerjYZ7b"
   },
   "outputs": [],
   "source": []
  }
 ],
 "metadata": {
  "colab": {
   "provenance": []
  },
  "kernelspec": {
   "display_name": "Python 3",
   "name": "python3"
  },
  "language_info": {
   "name": "python"
  }
 },
 "nbformat": 4,
 "nbformat_minor": 0
}
