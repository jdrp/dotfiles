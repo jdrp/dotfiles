{
 "cells": [
  {
   "cell_type": "markdown",
   "metadata": {
    "id": "LmQ-PRvsmm99"
   },
   "source": [
    "\n",
    "# Tarea\n",
    "\n",
    "**7p**: Implementar un algoritmo MAP REDUCE que extraiga el tamaño de las palabras y que palabras tienen dicho tamaño de todas las palabras del texto.\n",
    "\n",
    "ej:\n",
    "Para el texto:  “En un lugar de la mancha”\n",
    "El resultado seria: {2: [“el”,”un”,”de”,”la”],5: [“lugar”],6: [mancha”]}\n",
    "\n",
    "**2p**: Incluir limpieza de caracteres que no sean palabras persé como puntuaciones, exclamaciones , saltos de línea, etc.\n",
    "\n",
    "**1p**: Añadir typing a las funciones map y reduce\n",
    "\n",
    "# Condiciones\n",
    "\n",
    "El algoritmo usado para implementar tiene que ser map reduce.\n",
    "\n",
    "El fichero tiene que tener el nombre del alumno con _ y en formato .pynb ej lucas_alvarez_arguero.pynb\n",
    "\n",
    "El notebook se debe de poder ejecutar de principio a fin sin fallar.\n",
    "\n",
    "Usar las funciones que ofrece Python de manera nativa, nada de usar frameworks como pyspark etc."
   ]
  },
  {
   "cell_type": "code",
   "execution_count": 1,
   "metadata": {
    "id": "f2qSSINxzbcf"
   },
   "outputs": [
    {
     "name": "stdout",
     "output_type": "stream",
     "text": [
      "/mnt/shared/Documents/OneDrive/icai/4-1/arquitectura de sistemas de red/map_reduce/.venv/bin/pip: 2: exec: /mnt/shared/Documents/OneDrive/icai/4-1/arquitectura de sistemas de red/.venv/bin/python: not found\n"
     ]
    }
   ],
   "source": [
    "!pip install wget"
   ]
  },
  {
   "cell_type": "code",
   "execution_count": 2,
   "metadata": {
    "id": "ODjw-DxEmq7Y"
   },
   "outputs": [],
   "source": [
    "import random\n",
    "import math\n",
    "from typing import *\n",
    "import re\n",
    "import os\n",
    "from functools import reduce\n",
    "import wget\n",
    "import unicodedata"
   ]
  },
  {
   "cell_type": "code",
   "execution_count": 3,
   "metadata": {
    "id": "eGilOMTe2L-f"
   },
   "outputs": [
    {
     "data": {
      "text/plain": [
       "'el_quijote.txt'"
      ]
     },
     "execution_count": 3,
     "metadata": {},
     "output_type": "execute_result"
    }
   ],
   "source": [
    "url = 'https://gist.github.com/jsdario/6d6c69398cb0c73111e49f1218960f79/raw/8d4fc4548d437e2a7203a5aeeace5477f598827d/el_quijote.txt'\n",
    "file_path = 'el_quijote.txt'\n",
    "if not os.path.exists(file_path):\n",
    "    file_path=wget.download(url)\n",
    "file_path\n"
   ]
  },
  {
   "cell_type": "code",
   "execution_count": 4,
   "metadata": {
    "id": "14ddkOCH2jUm"
   },
   "outputs": [
    {
     "data": {
      "text/plain": [
       "_io.TextIOWrapper"
      ]
     },
     "execution_count": 4,
     "metadata": {},
     "output_type": "execute_result"
    }
   ],
   "source": [
    "file_1= open(file_path,'r')\n",
    "type(file_1)"
   ]
  },
  {
   "cell_type": "code",
   "execution_count": 5,
   "metadata": {
    "id": "insmag6Q2_Ln"
   },
   "outputs": [
    {
     "data": {
      "text/plain": [
       "['DON QUIJOTE DE LA MANCHA\\n',\n",
       " 'Miguel de Cervantes Saavedra\\n',\n",
       " '\\n',\n",
       " 'PRIMERA PARTE\\n',\n",
       " 'CAPÍTULO 1: Que trata de la condición y ejercicio del famoso hidalgo D. Quijote de la Mancha\\n',\n",
       " 'En un lugar de la Mancha, de cuyo nombre no quiero acordarme, no ha mucho tiempo que vivía un hidalgo de los de lanza en astillero, adarga antigua, rocín flaco y galgo corredor. Una olla de algo más vaca que carnero, salpicón las más noches, duelos y quebrantos los sábados, lentejas los viernes, algún palomino de añadidura los domingos, consumían las tres partes de su hacienda. El resto della concluían sayo de velarte, calzas de velludo para las fiestas con sus pantuflos de lo mismo, los días de entre semana se honraba con su vellori de lo más fino. Tenía en su casa una ama que pasaba de los cuarenta, y una sobrina que no llegaba a los veinte, y un mozo de campo y plaza, que así ensillaba el rocín como tomaba la podadera. Frisaba la edad de nuestro hidalgo con los cincuenta años, era de complexión recia, seco de carnes, enjuto de rostro; gran madrugador y amigo de la caza. Quieren decir que tenía el sobrenombre de Quijada o Quesada (que en esto hay alguna diferencia en los autores que deste caso escriben), aunque por conjeturas verosímiles se deja entender que se llama Quijana; pero esto importa poco a nuestro cuento; basta que en la narración dél no se salga un punto de la verdad. Es, pues, de saber, que este sobredicho hidalgo, los ratos que estaba ocioso (que eran los más del año) se daba a leer libros de caballerías con tanta afición y gusto, que olvidó casi de todo punto el ejercicio de la caza, y aun la administración de su hacienda; y llegó a tanto su curiosidad y desatino en esto, que vendió muchas hanegas de tierra de sembradura, para comprar libros de caballerías en que leer; y así llevó a su casa todos cuantos pudo haber dellos; y de todos ningunos le parecían tan bien como los que compuso el famoso Feliciano de Silva: porque la claridad de su prosa, y aquellas intrincadas razones suyas, le parecían de perlas; y más cuando llegaba a leer aquellos requiebros y cartas de desafío, donde en muchas partes hallaba escrito: la razón de la sinrazón que a mi razón se hace, de tal manera mi razón enflaquece, que con razón me quejo de la vuestra fermosura, y también cuando leía: los altos cielos que de vuestra divinidad divinamente con las estrellas se fortifican, y os hacen merecedora del merecimiento que merece la vuestra grandeza. Con estas y semejantes razones perdía el pobre caballero el juicio, y desvelábase por entenderlas, y desentrañarles el sentido, que no se lo sacara, ni las entendiera el mismo Aristóteles, si resucitara para sólo ello. No estaba muy bien con las heridas que don Belianis daba y recibía, porque se imaginaba que por grandes maestros que le hubiesen curado, no dejaría de tener el rostro y todo el cuerpo lleno de cicatrices y señales; pero con todo alababa en su autor aquel acabar su libro con la promesa de aquella inacabable aventura, y muchas veces le vino deseo de tomar la pluma, y darle fin al pie de la letra como allí se promete; y sin duda alguna lo hiciera, y aun saliera con ello, si otros mayores y continuos pensamientos no se lo estorbaran.\\n']"
      ]
     },
     "execution_count": 5,
     "metadata": {},
     "output_type": "execute_result"
    }
   ],
   "source": [
    "lines= file_1.readlines()\n",
    "lines[:6]"
   ]
  },
  {
   "cell_type": "code",
   "execution_count": 6,
   "metadata": {
    "id": "4KTiGKvg3c3U"
   },
   "outputs": [],
   "source": [
    "def word_lengths(row: str) -> Dict[int, Set[str]]:\n",
    "    row_clean = re.sub(r'[^a-záéóúíñ\\s]', ' ', unicodedata.normalize('NFC', row.lower()))\n",
    "    num_letters = {}\n",
    "    for word in row_clean.split():\n",
    "        letters = len(word)\n",
    "        if letters in num_letters.keys():\n",
    "            num_letters[letters].add(word)\n",
    "        else:\n",
    "            num_letters[letters] = {word}\n",
    "    return num_letters\n"
   ]
  },
  {
   "cell_type": "code",
   "execution_count": 7,
   "metadata": {
    "id": "rQwgLIxE49pV"
   },
   "outputs": [
    {
     "data": {
      "text/plain": [
       "{4: {'andó', 'hola'}, 5: {'mundo'}, 1: {'m'}}"
      ]
     },
     "execution_count": 7,
     "metadata": {},
     "output_type": "execute_result"
    }
   ],
   "source": [
    "entrada_1=word_lengths(\"hola mundo m.AnDó mundo\")\n",
    "entrada_1"
   ]
  },
  {
   "cell_type": "code",
   "execution_count": 8,
   "metadata": {
    "id": "V2IIJ8Xn9zFW"
   },
   "outputs": [
    {
     "data": {
      "text/plain": [
       "{8: {'capítulo'},\n",
       " 3: {'del', 'que'},\n",
       " 5: {'trata'},\n",
       " 2: {'de', 'la'},\n",
       " 9: {'condición', 'ejercicio'},\n",
       " 1: {'d', 'y'},\n",
       " 6: {'famoso', 'mancha'},\n",
       " 7: {'hidalgo', 'quijote'}}"
      ]
     },
     "execution_count": 8,
     "metadata": {},
     "output_type": "execute_result"
    }
   ],
   "source": [
    "entrada_2=word_lengths(lines[4])\n",
    "entrada_2"
   ]
  },
  {
   "cell_type": "code",
   "execution_count": 9,
   "metadata": {
    "id": "JKe0QYCu63Z3"
   },
   "outputs": [
    {
     "data": {
      "text/plain": [
       "[{3: {'don'}, 7: {'quijote'}, 2: {'de', 'la'}, 6: {'mancha'}},\n",
       " {6: {'miguel'}, 2: {'de'}, 9: {'cervantes'}, 8: {'saavedra'}}]"
      ]
     },
     "execution_count": 9,
     "metadata": {},
     "output_type": "execute_result"
    }
   ],
   "source": [
    "map_result=list(map(lambda row: word_lengths(row),lines))\n",
    "map_result[:2]"
   ]
  },
  {
   "cell_type": "code",
   "execution_count": 10,
   "metadata": {
    "id": "zpAnlu1d74_Q"
   },
   "outputs": [],
   "source": [
    "def reduce_word_lengths(num_letters_a: Dict[int, Set[str]], num_letters_b: Dict[int, Set[str]]) -> Dict[int, List[str]]:\n",
    "    num_letters = num_letters_a.copy()\n",
    "    for n in num_letters_b.keys():\n",
    "        if n in num_letters.keys():\n",
    "            num_letters[n].update(num_letters_b[n])\n",
    "        else:\n",
    "            num_letters[n] = num_letters_b[n]\n",
    "    return num_letters"
   ]
  },
  {
   "cell_type": "code",
   "execution_count": 11,
   "metadata": {
    "id": "9kqlU2oR-SPK"
   },
   "outputs": [
    {
     "data": {
      "text/plain": [
       "{8: {'capítulo'},\n",
       " 3: {'del', 'que'},\n",
       " 5: {'mundo', 'trata'},\n",
       " 2: {'de', 'la'},\n",
       " 9: {'condición', 'ejercicio'},\n",
       " 1: {'d', 'm', 'y'},\n",
       " 6: {'famoso', 'mancha'},\n",
       " 7: {'hidalgo', 'quijote'},\n",
       " 4: {'andó', 'hola'}}"
      ]
     },
     "execution_count": 11,
     "metadata": {},
     "output_type": "execute_result"
    }
   ],
   "source": [
    "reduce_word_lengths(entrada_2, entrada_1)"
   ]
  },
  {
   "cell_type": "code",
   "execution_count": null,
   "metadata": {
    "id": "p7XS3R-m-UfO"
   },
   "outputs": [
    {
     "name": "stdout",
     "output_type": "stream",
     "text": [
      "['quedó', 'paseo', 'mascó', 'avivo', 'oímos', 'grabó', 'bizma', 'vulgo', 'ginés', 'suyos', 'pasto', 'hurto', 'suben', 'ollas', 'apagó', 'arder', 'pluma', 'yerra', 'falda', 'yelan', 'parís', 'venta', 'miras', 'posar', 'altri', 'soltó', 'quisó', 'vacío', 'dijes', 'venid', 'subid', 'bolsa', 'valía', 'pague', 'habas', 'manda', 'fiero', 'diosa', 'metía', 'todas', 'vives', 'vamos', 'azote', 'salen', 'césar', 'ánima', 'vicio', 'hacha', 'lobas', 'techo', 'mudas', 'ángel', 'darte', 'metió', 'úsase', 'mitad', 'vendó', 'dónde', 'vivas', 'hados', 'ponen', 'desos', 'facer', 'beben', 'reina', 'mueva', 'lides', 'digno', 'brava', 'dejas', 'avila', 'duros', 'dirás', 'abrir', 'oírte', 'ropón', 'darle', 'reloj', 'tened', 'siglo', 'luces', 'tente', 'decía', 'aldeg', 'ríome', 'mudan', 'mulos', 'rueca', 'altos', 'quito', 'cargó', 'nuevo', 'desto', 'sarra', 'harán', 'soñar', 'otras', 'ahogó', 'sabia', 'usase', 'hábil', 'muera', 'íbase', 'barra', 'canse', 'vidas', 'viejo', 'rogar', 'huyan', 'árbol', 'cojea', 'vayas', 'viaje', 'gotas', 'salté', 'bajos', 'abran', 'cogió', 'lizos', 'caton', 'carlo', 'opuso', 'creyó', 'silbo', 'verlo', 'caigo', 'oírle', 'retar', 'dudas', 'peine', 'viera', 'vivar', 'copla', 'palmo', 'torpe', 'cruel', 'fundo', 'nacía', 'suena', 'baños', 'doble', 'basto', 'error', 'toros', 'echar', 'genil', 'sacos', 'resto', 'nueve', 'notad', 'haría', 'solaz', 'envió', 'damos', 'catay', 'rejas', 'adoré', 'hasta', 'quedo', 'oislo', 'silla', 'demás', 'tejió', 'malas', 'perro', 'medir', 'único', 'fácil', 'medio', 'alega', 'podrá', 'tenia', 'notas', 'estoy', 'ambos', 'tenor', 'coima', 'valgo', 'decís', 'túñez', 'acuda', 'apero', 'dobló', 'temió', 'rucio', 'pisan', 'cieno', 'humor', 'miran', 'celos', 'junto', 'aviso', 'nieve', 'llame', 'secas', 'debes', 'modos', 'agudo', 'patio', 'rayos', 'cuyas', 'rajas', 'hallé', 'falte', 'avisó', 'gallo', 'viven', 'salar', 'autor', 'trayo', 'curso', 'fajas', 'moros', 'leyes', 'metal', 'zagal', 'trocó', 'deben', 'pelea', 'donde', 'dados', 'estén', 'saque', 'total', 'ruego', 'oreja', 'bajar', 'sueño', 'navío', 'tomad', 'sabeo', 'furia', 'comía', 'yerro', 'venda', 'silos', 'cejas', 'movía', 'quizá', 'sería', 'hueso', 'patas', 'atada', 'única', 'hanse', 'mulas', 'labor', 'fuego', 'calor', 'poner', 'ratos', 'gozan', 'anima', 'dimos', 'cebra', 'preso', 'marte', 'dudes', 'paces', 'rieto', 'débil', 'vense', 'peana', 'solas', 'ayude', 'velar', 'choza', 'pacer', 'dadas', 'todos', 'parto', 'aldea', 'adoro', 'rezar', 'milán', 'errar', 'pared', 'rasgó', 'flema', 'sabía', 'ellas', 'toque', 'mesas', 'faltó', 'meneo', 'gordo', 'brida', 'noble', 'medos', 'sabio', 'oidor', 'della', 'gusta', 'vióle', 'puños', 'reino', 'magno', 'diego', 'tirar', 'véome', 'torno', 'soles', 'monte', 'oyólo', 'peras', 'ninfa', 'salir', 'arado', 'place', 'cielo', 'muere', 'fosca', 'cuita', 'nueva', 'cañas', 'cetro', 'arcos', 'ticio', 'estos', 'haber', 'movió', 'ajena', 'yacía', 'usaba', 'desea', 'ajeno', 'miedo', 'dudar', 'dejes', 'gimió', 'hamet', 'pedía', 'linda', 'maese', 'trago', 'pinta', 'trato', 'forse', 'tanto', 'lazos', 'egión', 'borró', 'menor', 'misma', 'curar', 'ferir', 'viudo', 'dista', 'fines', 'motes', 'luego', 'corso', 'favor', 'queja', 'mario', 'tigre', 'moras', 'volar', 'vivos', 'pagan', 'baeza', 'ídolo', 'funda', 'hojas', 'morir', 'dedos', 'saqué', 'darío', 'filis', 'diole', 'tarda', 'coser', 'manta', 'jarro', 'dices', 'rabel', 'pensó', 'colgó', 'adoró', 'abecé', 'muero', 'calló', 'talle', 'dejar', 'salsa', 'molía', 'tenía', 'bacía', 'hijos', 'ligas', 'muley', 'sello', 'eceto', 'dicho', 'muslo', 'ganar', 'rigor', 'gasto', 'rodeé', 'sones', 'rugel', 'acaso', 'asían', 'herir', 'entré', 'teman', 'caído', 'diese', 'riñas', 'reían', 'espía', 'velle', 'mosén', 'altas', 'pique', 'rióse', 'vanas', 'damas', 'aquél', 'sinón', 'mirar', 'entra', 'coche', 'ayuda', 'desta', 'salas', 'enzas', 'abrió', 'voces', 'magos', 'duela', 'furto', 'quien', 'oyere', 'viola', 'noche', 'molde', 'deuda', 'améis', 'sepas', 'hallo', 'estad', 'solía', 'otero', 'pinto', 'cenar', 'valor', 'color', 'echad', 'mazos', 'varas', 'según', 'finis', 'citas', 'horas', 'darás', 'riera', 'osase', 'órden', 'puedo', 'saltó', 'borla', 'aires', 'dolía', 'usado', 'épica', 'dióle', 'corté', 'gualá', 'banco', 'pones', 'llega', 'modón', 'calle', 'salva', 'jaula', 'entró', 'pérez', 'facil', 'darse', 'diera', 'ciego', 'suyas', 'sardo', 'tanta', 'gatos', 'campo', 'amigo', 'vobis', 'prado', 'orden', 'señal', 'razón', 'trata', 'jamás', 'podré', 'bravo', 'oílla', 'desas', 'lloro', 'vería', 'veces', 'sufra', 'llevo', 'diría', 'usque', 'altar', 'sutil', 'usada', 'trono', 'oirán', 'pesar', 'salud', 'perdí', 'sirve', 'antes', 'fuyan', 'geste', 'firma', 'pides', 'verse', 'duque', 'tirad', 'mande', 'siete', 'ánimo', 'libro', 'sales', 'éstos', 'ponía', 'queme', 'verle', 'serás', 'ducal', 'osado', 'haced', 'grado', 'janto', 'verla', 'regla', 'duaña', 'nadie', 'lavar', 'dañar', 'quede', 'senal', 'casas', 'meona', 'cogía', 'licor', 'plaza', 'paseó', 'votos', 'armas', 'acaba', 'heria', 'fiaba', 'ponte', 'rogad', 'salió', 'pompa', 'corte', 'revés', 'toman', 'sicut', 'nació', 'sotil', 'coger', 'hacía', 'pedir', 'papel', 'salvo', 'dando', 'fuera', 'oírla', 'ralea', 'verme', 'serán', 'recta', 'besad', 'justo', 'cinco', 'dones', 'hecha', 'fruto', 'viles', 'rueda', 'pasee', 'mozos', 'clavó', 'mesma', 'queje', 'honor', 'dello', 'ayudó', 'gastó', 'cides', 'presa', 'dinos', 'tengo', 'nieto', 'tarde', 'jesús', 'corra', 'merlo', 'ciega', 'osaba', 'mueve', 'gente', 'apear', 'épico', 'recia', 'capaz', 'viñas', 'jaspe', 'grave', 'sazón', 'dirán', 'tinta', 'veras', 'firme', 'golpe', 'moler', 'mirad', 'manca', 'mesmo', 'pesia', 'traía', 'enojo', 'alejó', 'parió', 'serlo', 'sacas', 'nuzas', 'junta', 'dejad', 'traza', 'común', 'avino', 'valer', 'conde', 'fondo', 'libró', 'tisbe', 'mañaa', 'casar', 'sedan', 'plato', 'sesto', 'sanas', 'acabe', 'apuro', 'hilos', 'quejo', 'decir', 'verde', 'ufano', 'ondas', 'vigor', 'lópez', 'comen', 'ardía', 'oyera', 'gaula', 'solos', 'lirio', 'viuda', 'imito', 'tiene', 'menos', 'marcó', 'debía', 'harto', 'traer', 'mandó', 'batán', 'sigan', 'déste', 'quién', 'falto', 'rodeo', 'artes', 'mente', 'loado', 'bañan', 'erase', 'cerca', 'cueva', 'telas', 'asido', 'pegar', 'risco', 'abajó', 'sitio', 'paran', 'breve', 'viere', 'turbó', 'sirgo', 'oídas', 'cobre', 'rogué', 'comer', 'plazo', 'lleva', 'liaba', 'álamo', 'pocas', 'venía', 'senda', 'forma', 'pobre', 'tiros', 'leido', 'yacen', 'matar', 'pulga', 'mates', 'bazán', 'estas', 'lloró', 'amáis', 'sanos', 'entos', 'ricas', 'vente', 'juntó', 'lleno', 'cobro', 'zaque', 'temas', 'barba', 'claro', 'merce', 'sacar', 'huido', 'corre', 'acabo', 'haces', 'vello', 'hayan', 'sabed', 'sentó', 'pavor', 'lista', 'caída', 'cifra', 'veáis', 'ramas', 'diere', 'pasan', 'gozar', 'lobos', 'yacer', 'copos', 'teseo', 'llaga', 'habré', 'busca', 'huida', 'víame', 'media', 'aguja', 'tacto', 'grial', 'verás', 'dejan', 'ámese', 'pegan', 'carga', 'necio', 'yedra', 'freír', 'nunca', 'sobra', 'harás', 'sabor', 'dolor', 'along', 'secta', 'durar', 'falsa', 'lados', 'tonel', 'ponga', 'venís', 'averg', 'anejo', 'arduo', 'carne', 'hemos', 'vetas', 'besar', 'igual', 'jurar', 'suele', 'lunes', 'clori', 'salvó', 'estés', 'animé', 'aduló', 'deseo', 'obras', 'unció', 'fuere', 'séale', 'podía', 'gaste', 'cerco', 'atado', 'foces', 'vivía', 'acabó', 'silva', 'flota', 'murió', 'lunar', 'hasme', 'plomo', 'palma', 'casos', 'barca', 'catón', 'parda', 'meter', 'suave', 'guste', 'fruta', 'corno', 'tenga', 'saben', 'vengo', 'llama', 'cuyos', 'hayas', 'selva', 'cubra', 'fénix', 'posea', 'parta', 'casta', 'libra', 'rosas', 'vélez', 'playa', 'piden', 'vació', 'jimio', 'torne', 'gatas', 'siega', 'oídos', 'llamo', 'varia', 'tinto', 'rompe', 'rotos', 'diana', 'jorge', 'pater', 'posta', 'nacer', 'vejez', 'oyese', 'lisas', 'vella', 'coral', 'bebas', 'sigas', 'rumía', 'émulo', 'señor', 'fecha', 'hagas', 'ahora', 'pidas', 'carro', 'roble', 'tonto', 'joyas', 'prosa', 'vayan', 'tuyos', 'quita', 'avisé', 'recua', 'estás', 'rocín', 'pólux', 'seguí', 'anexo', 'criar', 'formó', 'oliva', 'dobla', 'cesen', 'rocíe', 'males', 'galán', 'sagaz', 'quema', 'seáis', 'dicha', 'pocos', 'ubeda', 'arzón', 'renta', 'gaeta', 'poeta', 'gayos', 'adora', 'cuero', 'papin', 'abajo', 'oíllo', 'cansa', 'canta', 'añade', 'oíste', 'nislo', 'llore', 'matan', 'diose', 'hartó', 'verso', 'angeo', 'fisga', 'daños', 'clara', 'otile', 'india', 'calla', 'filos', 'digan', 'costo', 'éstas', 'desde', 'yelmo', 'vaste', 'honda', 'tuyas', 'dueño', 'turba', 'ibase', 'santo', 'túnez', 'asoma', 'artús', 'marco', 'quitó', 'galas', 'sigue', 'yerme', 'mudos', 'padre', 'timón', 'oigas', 'pajar', 'decid', 'nacen', 'nones', 'micer', 'novel', 'beber', 'fuíme', 'quiso', 'traes', 'coman', 'procu', 'pajas', 'pagán', 'bebió', 'punto', 'lleve', 'trova', 'caros', 'raras', 'golfo', 'rocío', 'tropa', 'tibia', 'grifo', 'trujo', 'hecho', 'había', 'armar', 'quedé', 'vocee', 'debió', 'dalle', 'basta', 'estar', 'hagan', 'ralla', 'acude', 'salto', 'tornó', 'varón', 'largo', 'temía', 'subía', 'migas', 'puede', 'muela', 'andas', 'grito', 'ardua', 'amejí', 'megos', 'poned', 'colmo', 'llamé', 'venzo', 'camas', 'aguda', 'higos', 'gomia', 'labio', 'marca', 'galgo', 'jacas', 'wamba', 'pugnó', 'eneas', 'atroz', 'dulce', 'trajo', 'añadí', 'nariz', 'cansé', 'miren', 'vengó', 'usara', 'harta', 'torné', 'sarna', 'duele', 'rindo', 'palos', 'codos', 'voacé', 'jubón', 'oveja', 'mejor', 'cuasi', 'lonja', 'solté', 'azota', 'guiar', 'aquel', 'salía', 'señas', 'robar', 'brazo', 'aspas', 'temen', 'lecho', 'curan', 'yerba', 'bordo', 'alabo', 'abrid', 'sepan', 'justa', 'pidió', 'corta', 'gabán', 'labre', 'rodea', 'rugir', 'bajel', 'batir', 'villa', 'tabla', 'sordo', 'canes', 'teste', 'plata', 'tulio', 'salgo', 'danza', 'sobró', 'torre', 'bríos', 'creta', 'sacan', 'manto', 'vivió', 'honre', 'otros', 'andan', 'brujo', 'sudor', 'hijas', 'ronca', 'supla', 'pecho', 'dióse', 'calza', 'pedro', 'finge', 'caían', 'criba', 'andar', 'atrás', 'causó', 'andad', 'acero', 'sabes', 'santa', 'grata', 'cargo', 'latín', 'proas', 'llenó', 'parte', 'ardor', 'mayor', 'cesan', 'hacia', 'pasen', 'rucia', 'hiere', 'bastó', 'torna', 'comas', 'valle', 'gorra', 'zelos', 'seria', 'peneo', 'canto', 'queda', 'colar', 'hable', 'carta', 'matas', 'docto', 'andes', 'pisar', 'usará', 'meses', 'roído', 'tazas', 'daban', 'selim', 'cosas', 'asida', 'somos', 'ducho', 'cabal', 'lauro', 'acebo', 'madre', 'tocas', 'cante', 'crían', 'lanza', 'irnos', 'bebed', 'cojín', 'rumor', 'digna', 'llego', 'pasos', 'niños', 'llora', 'anulo', 'efeto', 'fasta', 'bizco', 'acosa', 'tales', 'creas', 'venas', 'trigo', 'poder', 'reñir', 'llano', 'lunas', 'vuela', 'regia', 'línea', 'tardó', 'cevil', 'ñudos', 'hablo', 'mismo', 'verán', 'calzó', 'echen', 'seais', 'barco', 'solar', 'traen', 'raros', 'jasón', 'habló', 'caber', 'holgó', 'darme', 'turbe', 'zurdo', 'busco', 'cobró', 'contó', 'vista', 'yegua', 'algun', 'pasas', 'entre', 'hacen', 'suero', 'sabré', 'pensé', 'partí', 'manos', 'temor', 'velas', 'niego', 'valga', 'halla', 'hazme', 'canas', 'léase', 'mucho', 'rinda', 'deber', 'queso', 'estil', 'fuele', 'ellos', 'veían', 'diste', 'hiele', 'gasta', 'pintó', 'cinta', 'flaco', 'saeta', 'autos', 'mandé', 'atañe', 'vivir', 'duran', 'remos', 'brumó', 'notes', 'jerez', 'temes', 'crece', 'tomás', 'véase', 'arena', 'llena', 'negra', 'panza', 'febos', 'venia', 'falso', 'betis', 'forjó', 'leído', 'zafio', 'fadas', 'veldo', 'hablé', 'pagar', 'larga', 'huele', 'siend', 'digas', 'sentí', 'mares', 'palía', 'bacín', 'bruto', 'mando', 'osuna', 'locos', 'nudos', 'viese', 'penas', 'quemó', 'ancha', 'argel', 'sarta', 'enano', 'ruido', 'tocar', 'suelo', 'troya', 'hondo', 'doblo', 'necia', 'senos', 'llave', 'trabó', 'bulto', 'deste', 'polvo', 'veros', 'reuma', 'mucha', 'deban', 'dilas', 'culpa', 'freno', 'cabra', 'sudar', 'turco', 'parar', 'lugar', 'crees', 'ropas', 'quepa', 'gocen', 'burla', 'ramos', 'vence', 'rabia', 'duelo', 'leche', 'dadme', 'quité', 'letra', 'pongo', 'llegó', 'viole', 'furor', 'niega', 'credo', 'ocupa', 'chapa', 'vuelo', 'oírme', 'dicta', 'antor', 'osaré', 'judas', 'tomar', 'negro', 'hueco', 'venga', 'tocan', 'pecar', 'tener', 'ciñen', 'gante', 'elena', 'dicen', 'corto', 'fecho', 'reses', 'malos', 'dador', 'vieja', 'subió', 'garci', 'malta', 'flaca', 'legua', 'buena', 'burlo', 'ancho', 'cauto', 'hilas', 'acudí', 'reyes', 'ancas', 'hincó', 'sorda', 'peñas', 'dueña', 'forzó', 'émula', 'bajas', 'pedís', 'irían', 'quite', 'enoje', 'juana', 'halló', 'vemos', 'niñas', 'chico', 'alano', 'honra', 'habla', 'costó', 'puras', 'corvo', 'sufre', 'molió', 'anden', 'grano', 'pulen', 'peñón', 'están', 'pinté', 'aguas', 'falta', 'islas', 'halle', 'balde', 'yendo', 'moría', 'guisa', 'apolo', 'mosca', 'gustó', 'topar', 'ámbar', 'tañía', 'caiga', 'resta', 'milos', 'costa', 'mueca', 'alabó', 'habrá', 'norte', 'verte', 'darán', 'rodeó', 'burlé', 'firmó', 'recio', 'musas', 'notar', 'caerá', 'asnos', 'ansia', 'pares', 'viose', 'bando', 'llevé', 'mover', 'vimos', 'sesos', 'tajar', 'manso', 'subir', 'amiga', 'rinde', 'saber', 'fuese', 'lejos', 'cofre', 'coces', 'creed', 'darla', 'mujer', 'mundo', 'creía', 'gañán', 'bella', 'pardo', 'higas', 'creer', 'riese', 'tomen', 'rapas', 'juego', 'maten', 'monta', 'tardo', 'gusto', 'pueda', 'ganas', 'monja', 'cerró', 'hacer', 'orina', 'cesar', 'pasar', 'amada', 'mesón', 'libre', 'negar', 'pieza', 'haste', 'daría', 'algún', 'roque', 'llamó', 'temer', 'visto', 'laura', 'agora', 'bueno', 'julio', 'actos', 'papen', 'ambas', 'sobre', 'almas', 'echan', 'ricos', 'culpo', 'potro', 'rodar', 'sirvo', 'sacra', 'ahoga', 'bodas', 'venir', 'salga', 'mozas', 'sabrá', 'lovía', 'sirva', 'alzar', 'naval', 'maría', 'extra', 'modal', 'pesos', 'nubes', 'duras', 'bogar', 'fuero', 'primo', 'envía', 'punta', 'juzgó', 'viene', 'lomos', 'ruina', 'anteo', 'fiada', 'rapes', 'dejen', 'quise', 'mudar', 'caras', 'noria', 'causa', 'amado', 'probó', 'llana', 'fabló', 'toser', 'picos', 'traje', 'dotos', 'llevó', 'enoja', 'maria', 'tonta', 'plega', 'trote', 'fiera', 'lince']\n"
     ]
    }
   ],
   "source": [
    "reduced = reduce(lambda row_a, row_b: reduce_word_lengths(row_a, row_b), map_result)\n",
    "reduced = {n: list(s) for (n, s) in reduced.items()}\n",
    "reduced.get(5)"
   ]
  },
  {
   "cell_type": "code",
   "execution_count": 13,
   "metadata": {
    "id": "nz9JMXpwBfVu"
   },
   "outputs": [
    {
     "data": {
      "text/plain": [
       "0"
      ]
     },
     "execution_count": 13,
     "metadata": {},
     "output_type": "execute_result"
    }
   ],
   "source": [
    "len('')"
   ]
  },
  {
   "cell_type": "code",
   "execution_count": null,
   "metadata": {
    "id": "mj6naivSBkUc"
   },
   "outputs": [],
   "source": []
  }
 ],
 "metadata": {
  "colab": {
   "provenance": []
  },
  "kernelspec": {
   "display_name": ".venv",
   "language": "python",
   "name": "python3"
  },
  "language_info": {
   "codemirror_mode": {
    "name": "ipython",
    "version": 3
   },
   "file_extension": ".py",
   "mimetype": "text/x-python",
   "name": "python",
   "nbconvert_exporter": "python",
   "pygments_lexer": "ipython3",
   "version": "3.10.12"
  }
 },
 "nbformat": 4,
 "nbformat_minor": 0
}
