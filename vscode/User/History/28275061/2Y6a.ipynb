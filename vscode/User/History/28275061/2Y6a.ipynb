{
 "cells": [
  {
   "cell_type": "markdown",
   "metadata": {
    "id": "LmQ-PRvsmm99"
   },
   "source": [
    "\n",
    "# Tarea\n",
    "\n",
    "**7p**: Implementar un algoritmo MAP REDUCE que extraiga el tamaño de las palabras y que palabras tienen dicho tamaño de todas las palabras del texto.\n",
    "\n",
    "ej:\n",
    "Para el texto:  “En un lugar de la mancha”\n",
    "El resultado seria: {2: [“el”,”un”,”de”,”la”],5: [“lugar”],6: [mancha”]}\n",
    "\n",
    "**2p**: Incluir limpieza de caracteres que no sean palabras persé como puntuaciones, exclamaciones , saltos de línea, etc.\n",
    "\n",
    "**1p**: Añadir typing a las funciones map y reduce\n",
    "\n",
    "# Condiciones\n",
    "\n",
    "El algoritmo usado para implementar tiene que ser map reduce.\n",
    "\n",
    "El fichero tiene que tener el nombre del alumno con _ y en formato .pynb ej lucas_alvarez_arguero.pynb\n",
    "\n",
    "El notebook se debe de poder ejecutar de principio a fin sin fallar.\n",
    "\n",
    "Usar las funciones que ofrece Python de manera nativa, nada de usar frameworks como pyspark etc."
   ]
  },
  {
   "cell_type": "code",
   "execution_count": null,
   "metadata": {
    "id": "f2qSSINxzbcf"
   },
   "outputs": [
    {
     "ename": "",
     "evalue": "",
     "output_type": "error",
     "traceback": [
      "\u001b[1;31mThe kernel failed to start as the Python Environment '.venv (Python 3.10.12)' is no longer available. Consider selecting another kernel or refreshing the list of Python Environments."
     ]
    }
   ],
   "source": [
    "!pip install wget"
   ]
  },
  {
   "cell_type": "code",
   "execution_count": null,
   "metadata": {
    "id": "ODjw-DxEmq7Y"
   },
   "outputs": [],
   "source": [
    "import random\n",
    "import math\n",
    "from typing import *\n",
    "import re\n"
   ]
  },
  {
   "cell_type": "code",
   "execution_count": null,
   "metadata": {
    "id": "ienTeMQ1x-rG"
   },
   "outputs": [],
   "source": [
    "from functools import reduce"
   ]
  },
  {
   "cell_type": "code",
   "execution_count": null,
   "metadata": {
    "id": "hBDL8j5S1QJ_"
   },
   "outputs": [],
   "source": [
    "import wget"
   ]
  },
  {
   "cell_type": "code",
   "execution_count": null,
   "metadata": {
    "id": "eGilOMTe2L-f"
   },
   "outputs": [],
   "source": [
    "url = 'https://gist.github.com/jsdario/6d6c69398cb0c73111e49f1218960f79/raw/8d4fc4548d437e2a7203a5aeeace5477f598827d/el_quijote.txt'\n"
   ]
  },
  {
   "cell_type": "code",
   "execution_count": null,
   "metadata": {
    "id": "oG2vznWt2OUm"
   },
   "outputs": [],
   "source": [
    "file_path=wget.download(url)"
   ]
  },
  {
   "cell_type": "code",
   "execution_count": null,
   "metadata": {
    "id": "ntTY3rHM2hCk"
   },
   "outputs": [],
   "source": [
    "file_path"
   ]
  },
  {
   "cell_type": "code",
   "execution_count": null,
   "metadata": {
    "id": "14ddkOCH2jUm"
   },
   "outputs": [],
   "source": [
    "file_1= open(file_path,'r')"
   ]
  },
  {
   "cell_type": "code",
   "execution_count": null,
   "metadata": {
    "id": "EEAOLjYE3ThI"
   },
   "outputs": [],
   "source": [
    "type(file_1)"
   ]
  },
  {
   "cell_type": "code",
   "execution_count": null,
   "metadata": {
    "id": "insmag6Q2_Ln"
   },
   "outputs": [],
   "source": [
    "lines= file_1.readlines()"
   ]
  },
  {
   "cell_type": "code",
   "execution_count": null,
   "metadata": {
    "id": "pW3tnOHB3FD8"
   },
   "outputs": [],
   "source": [
    "lines[:6]"
   ]
  },
  {
   "cell_type": "code",
   "execution_count": null,
   "metadata": {
    "id": "4KTiGKvg3c3U"
   },
   "outputs": [],
   "source": [
    "def word_lengths(row: str) -> Dict[int, Set[str]]:\n",
    "    row_clean = re.sub(r'[^a-záéóúííñ\\s]', ' ', row.lower())\n",
    "    num_letters = {}\n",
    "    for word in row_clean.split():\n",
    "        letters = len(word)\n",
    "        if letters in num_letters.keys():\n",
    "            num_letters[letters].add(word)\n",
    "        else:\n",
    "            num_letters[letters] = {word}\n",
    "    return num_letters\n"
   ]
  },
  {
   "cell_type": "code",
   "execution_count": null,
   "metadata": {
    "id": "rQwgLIxE49pV"
   },
   "outputs": [],
   "source": [
    "entrada_1=word_lengths(\"hola mundo m-AAdo \")\n",
    "entrada_1"
   ]
  },
  {
   "cell_type": "code",
   "execution_count": null,
   "metadata": {
    "id": "V2IIJ8Xn9zFW"
   },
   "outputs": [],
   "source": [
    "entrada_2=word_lengths(lines[4])\n",
    "entrada_2"
   ]
  },
  {
   "cell_type": "code",
   "execution_count": null,
   "metadata": {
    "id": "JKe0QYCu63Z3"
   },
   "outputs": [],
   "source": [
    "map_result=list(map(lambda row: word_lengths(row),lines))"
   ]
  },
  {
   "cell_type": "code",
   "execution_count": null,
   "metadata": {},
   "outputs": [],
   "source": [
    "'Í'.lower()"
   ]
  },
  {
   "cell_type": "code",
   "execution_count": null,
   "metadata": {
    "id": "pq85AzYewC-V"
   },
   "outputs": [],
   "source": [
    "map_result[:2]"
   ]
  },
  {
   "cell_type": "code",
   "execution_count": null,
   "metadata": {
    "id": "zpAnlu1d74_Q"
   },
   "outputs": [],
   "source": [
    "def reduce_word_lengths(num_letters_a: Dict[int, Set[str]], num_letters_b: Dict[int, Set[str]]) -> Dict[int, List[str]]:\n",
    "    num_letters = num_letters_a.copy()\n",
    "    for n in num_letters_b.keys():\n",
    "        if n in num_letters.keys():\n",
    "            num_letters[n].update(num_letters_b[n])\n",
    "        else:\n",
    "            num_letters[n] = num_letters_b[n]\n",
    "    return num_letters"
   ]
  },
  {
   "cell_type": "code",
   "execution_count": null,
   "metadata": {
    "id": "9kqlU2oR-SPK"
   },
   "outputs": [],
   "source": [
    "reduce_word_lengths(entrada_2, entrada_1)"
   ]
  },
  {
   "cell_type": "code",
   "execution_count": null,
   "metadata": {
    "id": "p7XS3R-m-UfO"
   },
   "outputs": [],
   "source": [
    "reduced = reduce(lambda row_a, row_b: reduce_word_lengths(row_a, row_b), map_result)\n",
    "reduced = {n: list(s) for (n, s) in reduced.items()}\n",
    "reduced"
   ]
  },
  {
   "cell_type": "code",
   "execution_count": null,
   "metadata": {
    "id": "nz9JMXpwBfVu"
   },
   "outputs": [],
   "source": []
  },
  {
   "cell_type": "code",
   "execution_count": null,
   "metadata": {
    "id": "mj6naivSBkUc"
   },
   "outputs": [],
   "source": []
  }
 ],
 "metadata": {
  "colab": {
   "provenance": []
  },
  "kernelspec": {
   "display_name": "Python 3",
   "language": "python",
   "name": "python3"
  },
  "language_info": {
   "codemirror_mode": {
    "name": "ipython",
    "version": 3
   },
   "file_extension": ".py",
   "mimetype": "text/x-python",
   "name": "python",
   "nbconvert_exporter": "python",
   "pygments_lexer": "ipython3",
   "version": "3.10.12"
  }
 },
 "nbformat": 4,
 "nbformat_minor": 0
}
