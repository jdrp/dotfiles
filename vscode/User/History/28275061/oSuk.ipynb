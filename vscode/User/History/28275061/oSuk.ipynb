{
 "cells": [
  {
   "cell_type": "markdown",
   "metadata": {
    "id": "LmQ-PRvsmm99"
   },
   "source": [
    "\n",
    "# Tarea\n",
    "\n",
    "**7p**: Implementar un algoritmo MAP REDUCE que extraiga el tamaño de las palabras y que palabras tienen dicho tamaño de todas las palabras del texto.\n",
    "\n",
    "ej:\n",
    "Para el texto:  “En un lugar de la mancha”\n",
    "El resultado seria: {2: [“el”,”un”,”de”,”la”],5: [“lugar”],6: [mancha”]}\n",
    "\n",
    "**2p**: Incluir limpieza de caracteres que no sean palabras persé como puntuaciones, exclamaciones , saltos de línea, etc.\n",
    "\n",
    "**1p**: Añadir typing a las funciones map y reduce\n",
    "\n",
    "# Condiciones\n",
    "\n",
    "El algoritmo usado para implementar tiene que ser map reduce.\n",
    "\n",
    "El fichero tiene que tener el nombre del alumno con _ y en formato .pynb ej lucas_alvarez_arguero.pynb\n",
    "\n",
    "El notebook se debe de poder ejecutar de principio a fin sin fallar.\n",
    "\n",
    "Usar las funciones que ofrece Python de manera nativa, nada de usar frameworks como pyspark etc."
   ]
  },
  {
   "cell_type": "code",
   "execution_count": 1,
   "metadata": {
    "id": "f2qSSINxzbcf"
   },
   "outputs": [
    {
     "name": "stdout",
     "output_type": "stream",
     "text": [
      "/mnt/shared/Documents/OneDrive/icai/4-1/arquitectura de sistemas de red/map_reduce/.venv/bin/pip: 2: exec: /mnt/shared/Documents/OneDrive/icai/4-1/arquitectura de sistemas de red/.venv/bin/python: not found\n"
     ]
    }
   ],
   "source": [
    "!pip install wget"
   ]
  },
  {
   "cell_type": "code",
   "execution_count": 2,
   "metadata": {
    "id": "ODjw-DxEmq7Y"
   },
   "outputs": [],
   "source": [
    "import random\n",
    "import math\n",
    "from typing import *\n",
    "import re\n",
    "import os\n",
    "from functools import reduce\n",
    "import wget\n",
    "import unicodedata"
   ]
  },
  {
   "cell_type": "code",
   "execution_count": 3,
   "metadata": {
    "id": "eGilOMTe2L-f"
   },
   "outputs": [
    {
     "data": {
      "text/plain": [
       "'el_quijote.txt'"
      ]
     },
     "execution_count": 3,
     "metadata": {},
     "output_type": "execute_result"
    }
   ],
   "source": [
    "url = 'https://gist.github.com/jsdario/6d6c69398cb0c73111e49f1218960f79/raw/8d4fc4548d437e2a7203a5aeeace5477f598827d/el_quijote.txt'\n",
    "file_path = 'el_quijote.txt'\n",
    "if not os.path.exists(file_path):\n",
    "    file_path=wget.download(url)\n",
    "file_path\n"
   ]
  },
  {
   "cell_type": "code",
   "execution_count": 4,
   "metadata": {
    "id": "14ddkOCH2jUm"
   },
   "outputs": [
    {
     "data": {
      "text/plain": [
       "_io.TextIOWrapper"
      ]
     },
     "execution_count": 4,
     "metadata": {},
     "output_type": "execute_result"
    }
   ],
   "source": [
    "file_1= open(file_path,'r')\n",
    "type(file_1)"
   ]
  },
  {
   "cell_type": "code",
   "execution_count": 5,
   "metadata": {
    "id": "insmag6Q2_Ln"
   },
   "outputs": [
    {
     "data": {
      "text/plain": [
       "['DON QUIJOTE DE LA MANCHA\\n',\n",
       " 'Miguel de Cervantes Saavedra\\n',\n",
       " '\\n',\n",
       " 'PRIMERA PARTE\\n',\n",
       " 'CAPÍTULO 1: Que trata de la condición y ejercicio del famoso hidalgo D. Quijote de la Mancha\\n',\n",
       " 'En un lugar de la Mancha, de cuyo nombre no quiero acordarme, no ha mucho tiempo que vivía un hidalgo de los de lanza en astillero, adarga antigua, rocín flaco y galgo corredor. Una olla de algo más vaca que carnero, salpicón las más noches, duelos y quebrantos los sábados, lentejas los viernes, algún palomino de añadidura los domingos, consumían las tres partes de su hacienda. El resto della concluían sayo de velarte, calzas de velludo para las fiestas con sus pantuflos de lo mismo, los días de entre semana se honraba con su vellori de lo más fino. Tenía en su casa una ama que pasaba de los cuarenta, y una sobrina que no llegaba a los veinte, y un mozo de campo y plaza, que así ensillaba el rocín como tomaba la podadera. Frisaba la edad de nuestro hidalgo con los cincuenta años, era de complexión recia, seco de carnes, enjuto de rostro; gran madrugador y amigo de la caza. Quieren decir que tenía el sobrenombre de Quijada o Quesada (que en esto hay alguna diferencia en los autores que deste caso escriben), aunque por conjeturas verosímiles se deja entender que se llama Quijana; pero esto importa poco a nuestro cuento; basta que en la narración dél no se salga un punto de la verdad. Es, pues, de saber, que este sobredicho hidalgo, los ratos que estaba ocioso (que eran los más del año) se daba a leer libros de caballerías con tanta afición y gusto, que olvidó casi de todo punto el ejercicio de la caza, y aun la administración de su hacienda; y llegó a tanto su curiosidad y desatino en esto, que vendió muchas hanegas de tierra de sembradura, para comprar libros de caballerías en que leer; y así llevó a su casa todos cuantos pudo haber dellos; y de todos ningunos le parecían tan bien como los que compuso el famoso Feliciano de Silva: porque la claridad de su prosa, y aquellas intrincadas razones suyas, le parecían de perlas; y más cuando llegaba a leer aquellos requiebros y cartas de desafío, donde en muchas partes hallaba escrito: la razón de la sinrazón que a mi razón se hace, de tal manera mi razón enflaquece, que con razón me quejo de la vuestra fermosura, y también cuando leía: los altos cielos que de vuestra divinidad divinamente con las estrellas se fortifican, y os hacen merecedora del merecimiento que merece la vuestra grandeza. Con estas y semejantes razones perdía el pobre caballero el juicio, y desvelábase por entenderlas, y desentrañarles el sentido, que no se lo sacara, ni las entendiera el mismo Aristóteles, si resucitara para sólo ello. No estaba muy bien con las heridas que don Belianis daba y recibía, porque se imaginaba que por grandes maestros que le hubiesen curado, no dejaría de tener el rostro y todo el cuerpo lleno de cicatrices y señales; pero con todo alababa en su autor aquel acabar su libro con la promesa de aquella inacabable aventura, y muchas veces le vino deseo de tomar la pluma, y darle fin al pie de la letra como allí se promete; y sin duda alguna lo hiciera, y aun saliera con ello, si otros mayores y continuos pensamientos no se lo estorbaran.\\n']"
      ]
     },
     "execution_count": 5,
     "metadata": {},
     "output_type": "execute_result"
    }
   ],
   "source": [
    "lines= file_1.readlines()\n",
    "lines[:6]"
   ]
  },
  {
   "cell_type": "code",
   "execution_count": 6,
   "metadata": {
    "id": "4KTiGKvg3c3U"
   },
   "outputs": [],
   "source": [
    "def word_lengths(row: str) -> Dict[int, Set[str]]:\n",
    "    row_clean = re.sub(r'[^a-záéóúíñ\\s]', ' ', unicodedata.normalize('NFC', row.lower()))\n",
    "    num_letters = {}\n",
    "    for word in row_clean.split():\n",
    "        letters = len(word)\n",
    "        if letters in num_letters.keys():\n",
    "            num_letters[letters].add(word)\n",
    "        else:\n",
    "            num_letters[letters] = {word}\n",
    "    return num_letters\n"
   ]
  },
  {
   "cell_type": "code",
   "execution_count": 7,
   "metadata": {
    "id": "rQwgLIxE49pV"
   },
   "outputs": [
    {
     "data": {
      "text/plain": [
       "{4: {'andó', 'hola'}, 5: {'mundo'}, 1: {'m'}}"
      ]
     },
     "execution_count": 7,
     "metadata": {},
     "output_type": "execute_result"
    }
   ],
   "source": [
    "entrada_1=word_lengths(\"hola mundo m.AnDó mundo\")\n",
    "entrada_1"
   ]
  },
  {
   "cell_type": "code",
   "execution_count": 8,
   "metadata": {
    "id": "V2IIJ8Xn9zFW"
   },
   "outputs": [
    {
     "data": {
      "text/plain": [
       "{8: {'capítulo'},\n",
       " 3: {'del', 'que'},\n",
       " 5: {'trata'},\n",
       " 2: {'de', 'la'},\n",
       " 9: {'condición', 'ejercicio'},\n",
       " 1: {'d', 'y'},\n",
       " 6: {'famoso', 'mancha'},\n",
       " 7: {'hidalgo', 'quijote'}}"
      ]
     },
     "execution_count": 8,
     "metadata": {},
     "output_type": "execute_result"
    }
   ],
   "source": [
    "entrada_2=word_lengths(lines[4])\n",
    "entrada_2"
   ]
  },
  {
   "cell_type": "code",
   "execution_count": 9,
   "metadata": {
    "id": "JKe0QYCu63Z3"
   },
   "outputs": [
    {
     "data": {
      "text/plain": [
       "[{3: {'don'}, 7: {'quijote'}, 2: {'de', 'la'}, 6: {'mancha'}},\n",
       " {6: {'miguel'}, 2: {'de'}, 9: {'cervantes'}, 8: {'saavedra'}}]"
      ]
     },
     "execution_count": 9,
     "metadata": {},
     "output_type": "execute_result"
    }
   ],
   "source": [
    "map_result=list(map(lambda row: word_lengths(row),lines))\n",
    "map_result[:2]"
   ]
  },
  {
   "cell_type": "code",
   "execution_count": 10,
   "metadata": {
    "id": "zpAnlu1d74_Q"
   },
   "outputs": [],
   "source": [
    "def reduce_word_lengths(num_letters_a: Dict[int, Set[str]], num_letters_b: Dict[int, Set[str]]) -> Dict[int, List[str]]:\n",
    "    num_letters = num_letters_a.copy()\n",
    "    for n in num_letters_b.keys():\n",
    "        if n in num_letters.keys():\n",
    "            num_letters[n].update(num_letters_b[n])\n",
    "        else:\n",
    "            num_letters[n] = num_letters_b[n]\n",
    "    return num_letters"
   ]
  },
  {
   "cell_type": "code",
   "execution_count": 11,
   "metadata": {
    "id": "9kqlU2oR-SPK"
   },
   "outputs": [
    {
     "data": {
      "text/plain": [
       "{8: {'capítulo'},\n",
       " 3: {'del', 'que'},\n",
       " 5: {'mundo', 'trata'},\n",
       " 2: {'de', 'la'},\n",
       " 9: {'condición', 'ejercicio'},\n",
       " 1: {'d', 'm', 'y'},\n",
       " 6: {'famoso', 'mancha'},\n",
       " 7: {'hidalgo', 'quijote'},\n",
       " 4: {'andó', 'hola'}}"
      ]
     },
     "execution_count": 11,
     "metadata": {},
     "output_type": "execute_result"
    }
   ],
   "source": [
    "reduce_word_lengths(entrada_2, entrada_1)"
   ]
  },
  {
   "cell_type": "code",
   "execution_count": null,
   "metadata": {
    "id": "p7XS3R-m-UfO"
   },
   "outputs": [
    {
     "data": {
      "text/plain": [
       "['si',\n",
       " 'ue',\n",
       " 'et',\n",
       " 'ir',\n",
       " 'oí',\n",
       " 'ya',\n",
       " 'tu',\n",
       " 'ni',\n",
       " 'ha',\n",
       " 'aa',\n",
       " 'sn',\n",
       " 'vé',\n",
       " 'le',\n",
       " 've',\n",
       " 'dé',\n",
       " 'ma',\n",
       " 'ti',\n",
       " 'da',\n",
       " 'es',\n",
       " 'fe',\n",
       " 'yo',\n",
       " 'ah',\n",
       " 'va',\n",
       " 'mí',\n",
       " 'er',\n",
       " 'se',\n",
       " 'ta',\n",
       " 'br',\n",
       " 'ea',\n",
       " 'hi',\n",
       " 'os',\n",
       " 'ca',\n",
       " 'di',\n",
       " 'me',\n",
       " 'ay',\n",
       " 'ag',\n",
       " 'ra',\n",
       " 'su',\n",
       " 'el',\n",
       " 'lo',\n",
       " 'sé',\n",
       " 'te',\n",
       " 'un',\n",
       " 'sí',\n",
       " 'he',\n",
       " 'mi',\n",
       " 'sr',\n",
       " 'qu',\n",
       " 'oh',\n",
       " 'ia',\n",
       " 'tú',\n",
       " 'al',\n",
       " 'no',\n",
       " 'am',\n",
       " 'en',\n",
       " 'do',\n",
       " 'so',\n",
       " 'él',\n",
       " 'de',\n",
       " 'ad',\n",
       " 'in',\n",
       " 'la',\n",
       " 'vi']"
      ]
     },
     "execution_count": 14,
     "metadata": {},
     "output_type": "execute_result"
    }
   ],
   "source": [
    "reduced = reduce(lambda row_a, row_b: reduce_word_lengths(row_a, row_b), map_result)\n",
    "reduced = {n: list(s) for (n, s) in reduced.items()}\n",
    "print(reduced.get(2))"
   ]
  },
  {
   "cell_type": "code",
   "execution_count": 13,
   "metadata": {
    "id": "nz9JMXpwBfVu"
   },
   "outputs": [
    {
     "data": {
      "text/plain": [
       "0"
      ]
     },
     "execution_count": 13,
     "metadata": {},
     "output_type": "execute_result"
    }
   ],
   "source": [
    "len('')"
   ]
  },
  {
   "cell_type": "code",
   "execution_count": null,
   "metadata": {
    "id": "mj6naivSBkUc"
   },
   "outputs": [],
   "source": []
  }
 ],
 "metadata": {
  "colab": {
   "provenance": []
  },
  "kernelspec": {
   "display_name": ".venv",
   "language": "python",
   "name": "python3"
  },
  "language_info": {
   "codemirror_mode": {
    "name": "ipython",
    "version": 3
   },
   "file_extension": ".py",
   "mimetype": "text/x-python",
   "name": "python",
   "nbconvert_exporter": "python",
   "pygments_lexer": "ipython3",
   "version": "3.10.12"
  }
 },
 "nbformat": 4,
 "nbformat_minor": 0
}
