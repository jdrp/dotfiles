{
 "cells": [
  {
   "cell_type": "markdown",
   "metadata": {
    "id": "LmQ-PRvsmm99"
   },
   "source": [
    "\n",
    "# Tarea\n",
    "\n",
    "**7p**: Implementar un algoritmo MAP REDUCE que extraiga el tamaño de las palabras y que palabras tienen dicho tamaño de todas las palabras del texto.\n",
    "\n",
    "ej:\n",
    "Para el texto:  “En un lugar de la mancha”\n",
    "El resultado seria: {2: [“el”,”un”,”de”,”la”],5: [“lugar”],6: [mancha”]}\n",
    "\n",
    "**2p**: Incluir limpieza de caracteres que no sean palabras persé como puntuaciones, exclamaciones , saltos de línea, etc.\n",
    "\n",
    "**1p**: Añadir typing a las funciones map y reduce\n",
    "\n",
    "# Condiciones\n",
    "\n",
    "El algoritmo usado para implementar tiene que ser map reduce.\n",
    "\n",
    "El fichero tiene que tener el nombre del alumno con _ y en formato .pynb ej lucas_alvarez_arguero.pynb\n",
    "\n",
    "El notebook se debe de poder ejecutar de principio a fin sin fallar.\n",
    "\n",
    "Usar las funciones que ofrece Python de manera nativa, nada de usar frameworks como pyspark etc."
   ]
  },
  {
   "cell_type": "code",
   "execution_count": 29,
   "metadata": {
    "id": "f2qSSINxzbcf"
   },
   "outputs": [
    {
     "name": "stdout",
     "output_type": "stream",
     "text": [
      "Requirement already satisfied: wget in ./.venv/lib/python3.10/site-packages (3.2)\n"
     ]
    }
   ],
   "source": [
    "!pip install wget"
   ]
  },
  {
   "cell_type": "code",
   "execution_count": 30,
   "metadata": {
    "id": "ODjw-DxEmq7Y"
   },
   "outputs": [],
   "source": [
    "import random\n",
    "import math\n",
    "from typing import *\n",
    "import re\n"
   ]
  },
  {
   "cell_type": "code",
   "execution_count": 31,
   "metadata": {
    "id": "ienTeMQ1x-rG"
   },
   "outputs": [],
   "source": [
    "from functools import reduce"
   ]
  },
  {
   "cell_type": "code",
   "execution_count": 32,
   "metadata": {
    "id": "hBDL8j5S1QJ_"
   },
   "outputs": [],
   "source": [
    "import wget"
   ]
  },
  {
   "cell_type": "code",
   "execution_count": 33,
   "metadata": {
    "id": "eGilOMTe2L-f"
   },
   "outputs": [],
   "source": [
    "url = 'https://gist.github.com/jsdario/6d6c69398cb0c73111e49f1218960f79/raw/8d4fc4548d437e2a7203a5aeeace5477f598827d/el_quijote.txt'\n"
   ]
  },
  {
   "cell_type": "code",
   "execution_count": 34,
   "metadata": {
    "id": "oG2vznWt2OUm"
   },
   "outputs": [],
   "source": [
    "file_path=wget.download(url)"
   ]
  },
  {
   "cell_type": "code",
   "execution_count": 35,
   "metadata": {
    "id": "ntTY3rHM2hCk"
   },
   "outputs": [
    {
     "data": {
      "text/plain": [
       "'el_quijote (1).txt'"
      ]
     },
     "execution_count": 35,
     "metadata": {},
     "output_type": "execute_result"
    }
   ],
   "source": [
    "file_path"
   ]
  },
  {
   "cell_type": "code",
   "execution_count": 36,
   "metadata": {
    "id": "14ddkOCH2jUm"
   },
   "outputs": [],
   "source": [
    "file_1= open(file_path,'r')"
   ]
  },
  {
   "cell_type": "code",
   "execution_count": 37,
   "metadata": {
    "id": "EEAOLjYE3ThI"
   },
   "outputs": [
    {
     "data": {
      "text/plain": [
       "_io.TextIOWrapper"
      ]
     },
     "execution_count": 37,
     "metadata": {},
     "output_type": "execute_result"
    }
   ],
   "source": [
    "type(file_1)"
   ]
  },
  {
   "cell_type": "code",
   "execution_count": 38,
   "metadata": {
    "id": "insmag6Q2_Ln"
   },
   "outputs": [],
   "source": [
    "lines= file_1.readlines()"
   ]
  },
  {
   "cell_type": "code",
   "execution_count": 39,
   "metadata": {
    "id": "pW3tnOHB3FD8"
   },
   "outputs": [
    {
     "data": {
      "text/plain": [
       "['DON QUIJOTE DE LA MANCHA\\n',\n",
       " 'Miguel de Cervantes Saavedra\\n',\n",
       " '\\n',\n",
       " 'PRIMERA PARTE\\n',\n",
       " 'CAPÍTULO 1: Que trata de la condición y ejercicio del famoso hidalgo D. Quijote de la Mancha\\n',\n",
       " 'En un lugar de la Mancha, de cuyo nombre no quiero acordarme, no ha mucho tiempo que vivía un hidalgo de los de lanza en astillero, adarga antigua, rocín flaco y galgo corredor. Una olla de algo más vaca que carnero, salpicón las más noches, duelos y quebrantos los sábados, lentejas los viernes, algún palomino de añadidura los domingos, consumían las tres partes de su hacienda. El resto della concluían sayo de velarte, calzas de velludo para las fiestas con sus pantuflos de lo mismo, los días de entre semana se honraba con su vellori de lo más fino. Tenía en su casa una ama que pasaba de los cuarenta, y una sobrina que no llegaba a los veinte, y un mozo de campo y plaza, que así ensillaba el rocín como tomaba la podadera. Frisaba la edad de nuestro hidalgo con los cincuenta años, era de complexión recia, seco de carnes, enjuto de rostro; gran madrugador y amigo de la caza. Quieren decir que tenía el sobrenombre de Quijada o Quesada (que en esto hay alguna diferencia en los autores que deste caso escriben), aunque por conjeturas verosímiles se deja entender que se llama Quijana; pero esto importa poco a nuestro cuento; basta que en la narración dél no se salga un punto de la verdad. Es, pues, de saber, que este sobredicho hidalgo, los ratos que estaba ocioso (que eran los más del año) se daba a leer libros de caballerías con tanta afición y gusto, que olvidó casi de todo punto el ejercicio de la caza, y aun la administración de su hacienda; y llegó a tanto su curiosidad y desatino en esto, que vendió muchas hanegas de tierra de sembradura, para comprar libros de caballerías en que leer; y así llevó a su casa todos cuantos pudo haber dellos; y de todos ningunos le parecían tan bien como los que compuso el famoso Feliciano de Silva: porque la claridad de su prosa, y aquellas intrincadas razones suyas, le parecían de perlas; y más cuando llegaba a leer aquellos requiebros y cartas de desafío, donde en muchas partes hallaba escrito: la razón de la sinrazón que a mi razón se hace, de tal manera mi razón enflaquece, que con razón me quejo de la vuestra fermosura, y también cuando leía: los altos cielos que de vuestra divinidad divinamente con las estrellas se fortifican, y os hacen merecedora del merecimiento que merece la vuestra grandeza. Con estas y semejantes razones perdía el pobre caballero el juicio, y desvelábase por entenderlas, y desentrañarles el sentido, que no se lo sacara, ni las entendiera el mismo Aristóteles, si resucitara para sólo ello. No estaba muy bien con las heridas que don Belianis daba y recibía, porque se imaginaba que por grandes maestros que le hubiesen curado, no dejaría de tener el rostro y todo el cuerpo lleno de cicatrices y señales; pero con todo alababa en su autor aquel acabar su libro con la promesa de aquella inacabable aventura, y muchas veces le vino deseo de tomar la pluma, y darle fin al pie de la letra como allí se promete; y sin duda alguna lo hiciera, y aun saliera con ello, si otros mayores y continuos pensamientos no se lo estorbaran.\\n']"
      ]
     },
     "execution_count": 39,
     "metadata": {},
     "output_type": "execute_result"
    }
   ],
   "source": [
    "lines[:6]"
   ]
  },
  {
   "cell_type": "code",
   "execution_count": 40,
   "metadata": {
    "id": "4KTiGKvg3c3U"
   },
   "outputs": [],
   "source": [
    "def word_lengths(row: str) -> Dict[int, Set[str]]:\n",
    "    row_clean = re.sub(r'[^a-záéóúííñ\\s]', ' ', row.lower())\n",
    "    num_letters = {}\n",
    "    for word in row_clean.split():\n",
    "        letters = len(word)\n",
    "        if letters in num_letters.keys():\n",
    "            num_letters[letters].add(word)\n",
    "        else:\n",
    "            num_letters[letters] = {word}\n",
    "    return num_letters\n"
   ]
  },
  {
   "cell_type": "code",
   "execution_count": 41,
   "metadata": {
    "id": "rQwgLIxE49pV"
   },
   "outputs": [
    {
     "data": {
      "text/plain": [
       "{4: {'aado', 'hola'}, 5: {'mundo'}, 1: {'m'}}"
      ]
     },
     "execution_count": 41,
     "metadata": {},
     "output_type": "execute_result"
    }
   ],
   "source": [
    "entrada_1=word_lengths(\"hola mundo m-AAdo \")\n",
    "entrada_1"
   ]
  },
  {
   "cell_type": "code",
   "execution_count": 42,
   "metadata": {
    "id": "V2IIJ8Xn9zFW"
   },
   "outputs": [
    {
     "data": {
      "text/plain": [
       "{9: {'capítulo', 'ejercicio'},\n",
       " 3: {'del', 'que'},\n",
       " 5: {'trata'},\n",
       " 2: {'de', 'la'},\n",
       " 10: {'condición'},\n",
       " 1: {'d', 'y'},\n",
       " 6: {'famoso', 'mancha'},\n",
       " 7: {'hidalgo', 'quijote'}}"
      ]
     },
     "execution_count": 42,
     "metadata": {},
     "output_type": "execute_result"
    }
   ],
   "source": [
    "entrada_2=word_lengths(lines[4])\n",
    "entrada_2"
   ]
  },
  {
   "cell_type": "code",
   "execution_count": 43,
   "metadata": {
    "id": "JKe0QYCu63Z3"
   },
   "outputs": [],
   "source": [
    "map_result=list(map(lambda row: word_lengths(row),lines))"
   ]
  },
  {
   "cell_type": "code",
   "execution_count": 44,
   "metadata": {},
   "outputs": [
    {
     "data": {
      "text/plain": [
       "'í'"
      ]
     },
     "execution_count": 44,
     "metadata": {},
     "output_type": "execute_result"
    }
   ],
   "source": [
    "'Í'.lower()"
   ]
  },
  {
   "cell_type": "code",
   "execution_count": 45,
   "metadata": {
    "id": "pq85AzYewC-V"
   },
   "outputs": [
    {
     "data": {
      "text/plain": [
       "[{3: {'don'}, 7: {'quijote'}, 2: {'de', 'la'}, 6: {'mancha'}},\n",
       " {6: {'miguel'}, 2: {'de'}, 9: {'cervantes'}, 8: {'saavedra'}}]"
      ]
     },
     "execution_count": 45,
     "metadata": {},
     "output_type": "execute_result"
    }
   ],
   "source": [
    "map_result[:2]"
   ]
  },
  {
   "cell_type": "code",
   "execution_count": 46,
   "metadata": {
    "id": "zpAnlu1d74_Q"
   },
   "outputs": [],
   "source": [
    "def reduce_word_lengths(num_letters_a: Dict[int, Set[str]], num_letters_b: Dict[int, Set[str]]) -> Dict[int, List[str]]:\n",
    "    num_letters = num_letters_a.copy()\n",
    "    for n in num_letters_b.keys():\n",
    "        if n in num_letters.keys():\n",
    "            num_letters[n].update(num_letters_b[n])\n",
    "        else:\n",
    "            num_letters[n] = num_letters_b[n]\n",
    "    return num_letters"
   ]
  },
  {
   "cell_type": "code",
   "execution_count": 47,
   "metadata": {
    "id": "9kqlU2oR-SPK"
   },
   "outputs": [
    {
     "data": {
      "text/plain": [
       "{9: {'capítulo', 'ejercicio'},\n",
       " 3: {'del', 'que'},\n",
       " 5: {'mundo', 'trata'},\n",
       " 2: {'de', 'la'},\n",
       " 10: {'condición'},\n",
       " 1: {'d', 'm', 'y'},\n",
       " 6: {'famoso', 'mancha'},\n",
       " 7: {'hidalgo', 'quijote'},\n",
       " 4: {'aado', 'hola'}}"
      ]
     },
     "execution_count": 47,
     "metadata": {},
     "output_type": "execute_result"
    }
   ],
   "source": [
    "reduce_word_lengths(entrada_2, entrada_1)"
   ]
  },
  {
   "cell_type": "code",
   "execution_count": 48,
   "metadata": {
    "id": "p7XS3R-m-UfO"
   },
   "outputs": [],
   "source": [
    "reduced = reduce(lambda row_a, row_b: reduce_word_lengths(row_a, row_b), map_result)\n",
    "reduced = {n: list(s) for (n, s) in reduced.items()}"
   ]
  },
  {
   "cell_type": "code",
   "execution_count": null,
   "metadata": {
    "id": "nz9JMXpwBfVu"
   },
   "outputs": [],
   "source": []
  },
  {
   "cell_type": "code",
   "execution_count": null,
   "metadata": {
    "id": "mj6naivSBkUc"
   },
   "outputs": [],
   "source": []
  }
 ],
 "metadata": {
  "colab": {
   "provenance": []
  },
  "kernelspec": {
   "display_name": ".venv",
   "language": "python",
   "name": "python3"
  },
  "language_info": {
   "codemirror_mode": {
    "name": "ipython",
    "version": 3
   },
   "file_extension": ".py",
   "mimetype": "text/x-python",
   "name": "python",
   "nbconvert_exporter": "python",
   "pygments_lexer": "ipython3",
   "version": "3.10.12"
  }
 },
 "nbformat": 4,
 "nbformat_minor": 0
}
