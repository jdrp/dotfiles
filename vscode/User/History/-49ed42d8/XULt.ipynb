{
 "cells": [
  {
   "cell_type": "markdown",
   "id": "5b938fdd-1c35-4406-abc0-42f76ec63cdd",
   "metadata": {
    "editable": true,
    "slideshow": {
     "slide_type": ""
    },
    "tags": []
   },
   "source": [
    "### Corporate Finance: Group project #1\n",
    "# BUILDING A RELATIVE VALUATION ALGORITHM\n",
    "In this project, we will guide you on how to use Python to create a proper algorithm that outputs crucial information for the relative valuation process.\n",
    "\n",
    "As you know, Relative Valuation (or Valuation via Multiples) is extremely useful for its simplicity, although this can also entail some problems. The underlying idea for this valuation is that similar firms should be trading (priced) at similar prices with respect to their multiples (e.g., PE, EV/EBITDA, EV/Sales, …)\n",
    "\n",
    "Even though it is relatively easy to perform these calculations, provided that you have access to the data, we will create an algorithm to facilitate the task."
   ]
  },
  {
   "cell_type": "markdown",
   "id": "a9bb9b3e-06b1-4f75-9b17-ff9096444929",
   "metadata": {},
   "source": [
    "---\n",
    "## 0. Import required packages\n",
    "In this exercise, we will use [pandas](https://pandas.pydata.org/) and [plotly](https://plotly.com/)."
   ]
  },
  {
   "cell_type": "code",
   "execution_count": 2,
   "id": "57579363-114b-4d64-8a52-0003a1f93272",
   "metadata": {},
   "outputs": [],
   "source": [
    "import pandas as pd\n",
    "import plotly.express as px\n",
    "import plotly.graph_objs as go\n",
    "from plotly.subplots import make_subplots"
   ]
  },
  {
   "cell_type": "markdown",
   "id": "9570d609-3241-4b2b-a56d-0af745e06443",
   "metadata": {},
   "source": [
    "---\n",
    "## 1. Define the universe\n",
    "We will consider a group of biopharma companies. This list contains their stock market tickers. All of them belong to the SP 500 index."
   ]
  },
  {
   "cell_type": "code",
   "execution_count": 3,
   "id": "0aa813ea-8f43-40bd-9b7e-b80dbf0dbf2a",
   "metadata": {},
   "outputs": [],
   "source": [
    "UNIVERSE = ['ABBV-US', 'AMGN-US', 'ABT-US', 'JNJ-US', 'MMM-US', 'MRK-US', 'PFE-US', 'TMO-US']"
   ]
  },
  {
   "cell_type": "markdown",
   "id": "54dc3e75-2edf-4498-bfeb-2326f17dab91",
   "metadata": {},
   "source": [
    "---\n",
    "## 2. Read the SP 500 constituents\n",
    "The excel file `listing.xlsx` constains the constituents of the SP500 including some company-level data we will need later."
   ]
  },
  {
   "cell_type": "code",
   "execution_count": 4,
   "id": "faf948ad-0713-4b9c-8024-466be8c27fff",
   "metadata": {},
   "outputs": [
    {
     "ename": "FileNotFoundError",
     "evalue": "[Errno 2] No such file or directory: 'listing.xlsx'",
     "output_type": "error",
     "traceback": [
      "\u001b[0;31m---------------------------------------------------------------------------\u001b[0m",
      "\u001b[0;31mFileNotFoundError\u001b[0m                         Traceback (most recent call last)",
      "\u001b[0;32m/tmp/ipykernel_7207/2918581673.py\u001b[0m in \u001b[0;36m<module>\u001b[0;34m\u001b[0m\n\u001b[0;32m----> 1\u001b[0;31m \u001b[0mlisting\u001b[0m \u001b[0;34m=\u001b[0m \u001b[0mpd\u001b[0m\u001b[0;34m.\u001b[0m\u001b[0mread_excel\u001b[0m\u001b[0;34m(\u001b[0m\u001b[0;34m'listing.xlsx'\u001b[0m\u001b[0;34m,\u001b[0m \u001b[0mindex_col\u001b[0m\u001b[0;34m=\u001b[0m\u001b[0;34m'Id'\u001b[0m\u001b[0;34m)\u001b[0m\u001b[0;34m\u001b[0m\u001b[0;34m\u001b[0m\u001b[0m\n\u001b[0m\u001b[1;32m      2\u001b[0m \u001b[0mlisting\u001b[0m \u001b[0;34m=\u001b[0m \u001b[0mlisting\u001b[0m\u001b[0;34m.\u001b[0m\u001b[0mset_index\u001b[0m\u001b[0;34m(\u001b[0m\u001b[0;34m'Symbol'\u001b[0m\u001b[0;34m)\u001b[0m\u001b[0;34m\u001b[0m\u001b[0;34m\u001b[0m\u001b[0m\n\u001b[1;32m      3\u001b[0m \u001b[0mlisting\u001b[0m\u001b[0;34m.\u001b[0m\u001b[0mtail\u001b[0m\u001b[0;34m(\u001b[0m\u001b[0;34m)\u001b[0m\u001b[0;34m\u001b[0m\u001b[0;34m\u001b[0m\u001b[0m\n",
      "\u001b[0;32m~/.local/lib/python3.10/site-packages/pandas/io/excel/_base.py\u001b[0m in \u001b[0;36mread_excel\u001b[0;34m(io, sheet_name, header, names, index_col, usecols, dtype, engine, converters, true_values, false_values, skiprows, nrows, na_values, keep_default_na, na_filter, verbose, parse_dates, date_parser, date_format, thousands, decimal, comment, skipfooter, storage_options, dtype_backend, engine_kwargs)\u001b[0m\n\u001b[1;32m    493\u001b[0m     \u001b[0;32mif\u001b[0m \u001b[0;32mnot\u001b[0m \u001b[0misinstance\u001b[0m\u001b[0;34m(\u001b[0m\u001b[0mio\u001b[0m\u001b[0;34m,\u001b[0m \u001b[0mExcelFile\u001b[0m\u001b[0;34m)\u001b[0m\u001b[0;34m:\u001b[0m\u001b[0;34m\u001b[0m\u001b[0;34m\u001b[0m\u001b[0m\n\u001b[1;32m    494\u001b[0m         \u001b[0mshould_close\u001b[0m \u001b[0;34m=\u001b[0m \u001b[0;32mTrue\u001b[0m\u001b[0;34m\u001b[0m\u001b[0;34m\u001b[0m\u001b[0m\n\u001b[0;32m--> 495\u001b[0;31m         io = ExcelFile(\n\u001b[0m\u001b[1;32m    496\u001b[0m             \u001b[0mio\u001b[0m\u001b[0;34m,\u001b[0m\u001b[0;34m\u001b[0m\u001b[0;34m\u001b[0m\u001b[0m\n\u001b[1;32m    497\u001b[0m             \u001b[0mstorage_options\u001b[0m\u001b[0;34m=\u001b[0m\u001b[0mstorage_options\u001b[0m\u001b[0;34m,\u001b[0m\u001b[0;34m\u001b[0m\u001b[0;34m\u001b[0m\u001b[0m\n",
      "\u001b[0;32m~/.local/lib/python3.10/site-packages/pandas/io/excel/_base.py\u001b[0m in \u001b[0;36m__init__\u001b[0;34m(self, path_or_buffer, engine, storage_options, engine_kwargs)\u001b[0m\n\u001b[1;32m   1548\u001b[0m                 \u001b[0mext\u001b[0m \u001b[0;34m=\u001b[0m \u001b[0;34m\"xls\"\u001b[0m\u001b[0;34m\u001b[0m\u001b[0;34m\u001b[0m\u001b[0m\n\u001b[1;32m   1549\u001b[0m             \u001b[0;32melse\u001b[0m\u001b[0;34m:\u001b[0m\u001b[0;34m\u001b[0m\u001b[0;34m\u001b[0m\u001b[0m\n\u001b[0;32m-> 1550\u001b[0;31m                 ext = inspect_excel_format(\n\u001b[0m\u001b[1;32m   1551\u001b[0m                     \u001b[0mcontent_or_path\u001b[0m\u001b[0;34m=\u001b[0m\u001b[0mpath_or_buffer\u001b[0m\u001b[0;34m,\u001b[0m \u001b[0mstorage_options\u001b[0m\u001b[0;34m=\u001b[0m\u001b[0mstorage_options\u001b[0m\u001b[0;34m\u001b[0m\u001b[0;34m\u001b[0m\u001b[0m\n\u001b[1;32m   1552\u001b[0m                 )\n",
      "\u001b[0;32m~/.local/lib/python3.10/site-packages/pandas/io/excel/_base.py\u001b[0m in \u001b[0;36minspect_excel_format\u001b[0;34m(content_or_path, storage_options)\u001b[0m\n\u001b[1;32m   1400\u001b[0m         \u001b[0mcontent_or_path\u001b[0m \u001b[0;34m=\u001b[0m \u001b[0mBytesIO\u001b[0m\u001b[0;34m(\u001b[0m\u001b[0mcontent_or_path\u001b[0m\u001b[0;34m)\u001b[0m\u001b[0;34m\u001b[0m\u001b[0;34m\u001b[0m\u001b[0m\n\u001b[1;32m   1401\u001b[0m \u001b[0;34m\u001b[0m\u001b[0m\n\u001b[0;32m-> 1402\u001b[0;31m     with get_handle(\n\u001b[0m\u001b[1;32m   1403\u001b[0m         \u001b[0mcontent_or_path\u001b[0m\u001b[0;34m,\u001b[0m \u001b[0;34m\"rb\"\u001b[0m\u001b[0;34m,\u001b[0m \u001b[0mstorage_options\u001b[0m\u001b[0;34m=\u001b[0m\u001b[0mstorage_options\u001b[0m\u001b[0;34m,\u001b[0m \u001b[0mis_text\u001b[0m\u001b[0;34m=\u001b[0m\u001b[0;32mFalse\u001b[0m\u001b[0;34m\u001b[0m\u001b[0;34m\u001b[0m\u001b[0m\n\u001b[1;32m   1404\u001b[0m     ) as handle:\n",
      "\u001b[0;32m~/.local/lib/python3.10/site-packages/pandas/io/common.py\u001b[0m in \u001b[0;36mget_handle\u001b[0;34m(path_or_buf, mode, encoding, compression, memory_map, is_text, errors, storage_options)\u001b[0m\n\u001b[1;32m    880\u001b[0m         \u001b[0;32melse\u001b[0m\u001b[0;34m:\u001b[0m\u001b[0;34m\u001b[0m\u001b[0;34m\u001b[0m\u001b[0m\n\u001b[1;32m    881\u001b[0m             \u001b[0;31m# Binary mode\u001b[0m\u001b[0;34m\u001b[0m\u001b[0;34m\u001b[0m\u001b[0m\n\u001b[0;32m--> 882\u001b[0;31m             \u001b[0mhandle\u001b[0m \u001b[0;34m=\u001b[0m \u001b[0mopen\u001b[0m\u001b[0;34m(\u001b[0m\u001b[0mhandle\u001b[0m\u001b[0;34m,\u001b[0m \u001b[0mioargs\u001b[0m\u001b[0;34m.\u001b[0m\u001b[0mmode\u001b[0m\u001b[0;34m)\u001b[0m\u001b[0;34m\u001b[0m\u001b[0;34m\u001b[0m\u001b[0m\n\u001b[0m\u001b[1;32m    883\u001b[0m         \u001b[0mhandles\u001b[0m\u001b[0;34m.\u001b[0m\u001b[0mappend\u001b[0m\u001b[0;34m(\u001b[0m\u001b[0mhandle\u001b[0m\u001b[0;34m)\u001b[0m\u001b[0;34m\u001b[0m\u001b[0;34m\u001b[0m\u001b[0m\n\u001b[1;32m    884\u001b[0m \u001b[0;34m\u001b[0m\u001b[0m\n",
      "\u001b[0;31mFileNotFoundError\u001b[0m: [Errno 2] No such file or directory: 'listing.xlsx'"
     ]
    }
   ],
   "source": [
    "listing = pd.read_excel('listing.xlsx', index_col='Id')\n",
    "listing = listing.set_index('Symbol')\n",
    "listing.tail()"
   ]
  },
  {
   "cell_type": "markdown",
   "id": "fa79c4b5-534a-46bd-8142-0629ad3881ba",
   "metadata": {},
   "source": [
    "---\n",
    "## 3. Sunburst chart of industry and market capitalization\n",
    "Let's generate a [sunburst chart](https://plotly.com/python/sunburst-charts/) of the SP 500 by industry and market capitalization. It is interactive!"
   ]
  },
  {
   "cell_type": "code",
   "execution_count": null,
   "id": "3b258020-1141-497f-bb5c-9f6c6bdc4f53",
   "metadata": {},
   "outputs": [],
   "source": [
    "fig = px.sunburst(listing,\n",
    "                  path=['RBICS Economy', 'RBICS Sector'], \n",
    "                  values='Market Value - Company Level', \n",
    "                  width=800, height=800)\n",
    "fig.show()"
   ]
  },
  {
   "cell_type": "markdown",
   "id": "d76e897e-686d-464e-9d4e-005467f27b92",
   "metadata": {},
   "source": [
    "---\n",
    "## 4. Read stock prices\n",
    "The excel `prices.xlsx` contains daily price, return and volume data."
   ]
  },
  {
   "cell_type": "code",
   "execution_count": null,
   "id": "f002c4d3-738d-431e-99be-c47b808b0854",
   "metadata": {},
   "outputs": [],
   "source": [
    "all_prices = pd.read_excel('prices.xlsx', index_col='Id')\n",
    "all_prices.tail(3)"
   ]
  },
  {
   "cell_type": "markdown",
   "id": "f3069fb5-a056-4971-836b-d2f1b384a2d6",
   "metadata": {},
   "source": [
    "---\n",
    "## 5. Extract prices for a single company\n",
    "The table contains data in long-format that belongs to many companies at different dates. How can we extract the prices of a given company?  \n",
    "Remember to set an index that is unique and representative of each row (the date)."
   ]
  },
  {
   "cell_type": "code",
   "execution_count": null,
   "id": "1cc2414e-9fde-48e5-8bed-19bfa42ac64a",
   "metadata": {},
   "outputs": [],
   "source": [
    "# function\n",
    "def get_prices(all_prices, ticker):\n",
    "    df = all_prices[all_prices['symbol'] == ticker]\n",
    "    df = df.set_index('date')\n",
    "    return df\n",
    "\n",
    "# example: retrieve Johnson & Johnson price data\n",
    "df = get_prices(all_prices, 'JNJ-US')\n",
    "df.tail()"
   ]
  },
  {
   "cell_type": "markdown",
   "id": "954c182f-036f-40d5-a75b-44f249f3a288",
   "metadata": {},
   "source": [
    "---\n",
    "## 6. Plot prices and volume of a company\n",
    "Let's display in a single chart the prices and volume of a given company.  \n",
    "The price chart is a [scatter plot](https://plotly.com/python/line-and-scatter/) and volume is a [bar plot](https://plotly.com/python/bar-charts/)."
   ]
  },
  {
   "cell_type": "code",
   "execution_count": null,
   "id": "6b1ebb0b-b8e1-4961-b63e-e3e54b263e05",
   "metadata": {},
   "outputs": [],
   "source": [
    "# function\n",
    "def plot_prices(prices, title):\n",
    "    # Create subplots, that is, one chart on top of another\n",
    "    fig = make_subplots(rows=2, cols=1,\n",
    "                        shared_xaxes=True, \n",
    "                        vertical_spacing=0.03, subplot_titles=('Adjusted Price', 'Volume'), \n",
    "                        row_width=[0.2, 0.7])\n",
    "\n",
    "    # top chart: prices\n",
    "    fig.add_trace(go.Scatter(x = prices.index, y = prices['Adjusted Price'], name='Price'), \n",
    "                    row=1, col=1)\n",
    "\n",
    "    # bottom chart: bar plot for volumes\n",
    "    fig.add_trace(go.Bar(x=prices.index, y=prices['Volume'], marker_line_color='red', name='Volume'), row=2, col=1)\n",
    "\n",
    "    # Do not show rangeslider plot \n",
    "    fig.update_layout(xaxis_rangeslider_visible=False, width=1200, height=600, title=title)\n",
    "    fig.show()\n",
    "\n",
    "# example: plot johnson & johnson prices and volume\n",
    "# df is the DataFrame retrieved in the cell above\n",
    "plot_prices(df, 'Prices of Johnson & Johnson')"
   ]
  },
  {
   "cell_type": "markdown",
   "id": "48b99643-bd43-4fc9-988a-5a0843dc8817",
   "metadata": {},
   "source": [
    "---\n",
    "## 7. Read Fundamental Data\n",
    "Let's read the excel files containing the balance sheets, income statements and cash flows.  \n",
    "(Cash flows are not used in the exercise)."
   ]
  },
  {
   "cell_type": "code",
   "execution_count": null,
   "id": "4c84702c-e17a-40da-b35d-3f2737baaa0c",
   "metadata": {},
   "outputs": [],
   "source": [
    "all_balance_sheets = pd.read_excel('balance_sheets.xlsx', index_col='Id')\n",
    "all_income_statements = pd.read_excel('income_statements.xlsx', index_col='Id')\n",
    "all_cash_flows = pd.read_excel('cash_flows.xlsx', index_col='Id')"
   ]
  },
  {
   "cell_type": "markdown",
   "id": "f5ab3992-1066-4c62-9bdc-fe5a6ee53998",
   "metadata": {},
   "source": [
    "---\n",
    "## 8. Multiples: DO YOUR MAGIC HERE!!\n",
    "Insert below all the code you need to calculate the multiples!\n",
    "\n",
    "$$PE=\\frac{MarketCap}{Earnings_{TTM}}$$\n",
    "\n",
    "$$\\frac{EV}{EBITDA}=\\frac{MarketCap + Debt - Cash}{EBITDA_{TTM}}$$"
   ]
  },
  {
   "cell_type": "code",
   "execution_count": null,
   "id": "20706bea-56c0-48c7-a84c-b3b3cc8a9130",
   "metadata": {},
   "outputs": [],
   "source": [
    "###\n",
    "# YOUR CODE HERE\n",
    "###"
   ]
  },
  {
   "cell_type": "markdown",
   "id": "e1f7f1c6-e535-4598-9a4e-f9ba1c834780",
   "metadata": {},
   "source": [
    "---\n",
    "## 9. The visualization code, as promised\n",
    "Given a `DataFrame` with the correct format and structure, this function will display:\n",
    "- High band\n",
    "- Median\n",
    "- Low band\n",
    "- The multiple(s) of the company(ies) selected in the legend on the right."
   ]
  },
  {
   "cell_type": "code",
   "execution_count": null,
   "id": "6f1426b1-9217-4d72-a337-8e4668033515",
   "metadata": {},
   "outputs": [],
   "source": [
    "def plot_multiple(name, universe, data):\n",
    "\n",
    "    fig = go.Figure()\n",
    "    \n",
    "    fig.add_trace(\n",
    "        go.Scatter(x = data.index,\n",
    "                   y = data['median'],\n",
    "                   line = {'dash': 'solid', 'width':5},\n",
    "                   line_color = 'gray',\n",
    "                   name = 'median',\n",
    "                   opacity = 0.25)\n",
    "    )\n",
    "    \n",
    "    for ticker in universe:\n",
    "        fig.add_trace(\n",
    "            go.Scatter(x = data.index,\n",
    "                       y = data[ticker],\n",
    "                       #line_color = 'red',\n",
    "                       visible='legendonly',\n",
    "                       name = ticker)\n",
    "        )\n",
    "\n",
    "    # Upper Bound\n",
    "    fig.add_trace(\n",
    "        go.Scatter(x = data.index,\n",
    "                   y = data['high'],\n",
    "                   line_color = 'lightgray',\n",
    "                   line = {'dash': 'dot', 'width':1},                   \n",
    "                   name = 'upper band',\n",
    "                   opacity = 0.25)\n",
    "    )\n",
    "\n",
    "    # Lower Bound fill in between with parameter 'fill': 'tonexty'\n",
    "    fig.add_trace(\n",
    "        go.Scatter(x = data.index,\n",
    "                   y = data['low'],\n",
    "                   line_color = 'lightgray',\n",
    "                   line = {'dash': 'dot', 'width':1},\n",
    "                   fill = 'tonexty',\n",
    "                   name = 'lower band',\n",
    "                   opacity = 0.25)\n",
    "    )\n",
    "\n",
    "    # use percentages in axes\n",
    "    fig.update_layout(\n",
    "        width=1200,\n",
    "        height=600,\n",
    "        title=name,\n",
    "        xaxis_title='time',\n",
    "        yaxis_title=name,\n",
    "    )\n",
    "\n",
    "    fig.show()"
   ]
  },
  {
   "cell_type": "markdown",
   "id": "438d7693-95bf-4cd4-b04c-ac9c84b8dfef",
   "metadata": {},
   "source": [
    "Plot multiple: $\\frac{EV}{EBITDA}$"
   ]
  },
  {
   "cell_type": "code",
   "execution_count": null,
   "id": "767a90d6-1247-45d8-9854-ea378e6559e8",
   "metadata": {
    "editable": true,
    "slideshow": {
     "slide_type": ""
    },
    "tags": []
   },
   "outputs": [],
   "source": [
    "# example\n",
    "#plot_multiple('EV/EBITDA', UNIVERSE, all_ev_ebidta)"
   ]
  },
  {
   "cell_type": "markdown",
   "id": "8a8695d4-b779-4628-91e7-5b4418f6b9ac",
   "metadata": {},
   "source": [
    "Plot multiple: $PE=\\frac{Price}{Earnings}$"
   ]
  },
  {
   "cell_type": "code",
   "execution_count": null,
   "id": "bfd090ec-8d98-4252-8c99-4b3299bd73b8",
   "metadata": {
    "editable": true,
    "slideshow": {
     "slide_type": ""
    },
    "tags": []
   },
   "outputs": [],
   "source": [
    "# example\n",
    "#plot_multiple('PE', UNIVERSE, all_pe)"
   ]
  }
 ],
 "metadata": {
  "kernelspec": {
   "display_name": "Python 3 (ipykernel)",
   "language": "python",
   "name": "python3"
  },
  "language_info": {
   "codemirror_mode": {
    "name": "ipython",
    "version": 3
   },
   "file_extension": ".py",
   "mimetype": "text/x-python",
   "name": "python",
   "nbconvert_exporter": "python",
   "pygments_lexer": "ipython3",
   "version": "3.10.12"
  },
  "remote_encode": "gtDEzqQ29uZE"
 },
 "nbformat": 4,
 "nbformat_minor": 5
}
