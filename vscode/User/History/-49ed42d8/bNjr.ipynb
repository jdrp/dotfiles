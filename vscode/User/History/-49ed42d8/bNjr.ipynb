{
 "cells": [
  {
   "cell_type": "markdown",
   "id": "5b938fdd-1c35-4406-abc0-42f76ec63cdd",
   "metadata": {
    "editable": true,
    "slideshow": {
     "slide_type": ""
    },
    "tags": []
   },
   "source": [
    "### Corporate Finance: Group project #1\n",
    "# BUILDING A RELATIVE VALUATION ALGORITHM\n",
    "In this project, we will guide you on how to use Python to create a proper algorithm that outputs crucial information for the relative valuation process.\n",
    "\n",
    "As you know, Relative Valuation (or Valuation via Multiples) is extremely useful for its simplicity, although this can also entail some problems. The underlying idea for this valuation is that similar firms should be trading (priced) at similar prices with respect to their multiples (e.g., PE, EV/EBITDA, EV/Sales, …)\n",
    "\n",
    "Even though it is relatively easy to perform these calculations, provided that you have access to the data, we will create an algorithm to facilitate the task."
   ]
  },
  {
   "cell_type": "markdown",
   "id": "a9bb9b3e-06b1-4f75-9b17-ff9096444929",
   "metadata": {},
   "source": [
    "---\n",
    "## 0. Import required packages\n",
    "In this exercise, we will use [pandas](https://pandas.pydata.org/) and [plotly](https://plotly.com/)."
   ]
  },
  {
   "cell_type": "code",
   "execution_count": 1,
   "id": "57579363-114b-4d64-8a52-0003a1f93272",
   "metadata": {},
   "outputs": [],
   "source": [
    "import pandas as pd\n",
    "import plotly.express as px\n",
    "import plotly.graph_objs as go\n",
    "from plotly.subplots import make_subplots"
   ]
  },
  {
   "cell_type": "markdown",
   "id": "9570d609-3241-4b2b-a56d-0af745e06443",
   "metadata": {},
   "source": [
    "---\n",
    "## 1. Define the universe\n",
    "We will consider a group of biopharma companies. This list contains their stock market tickers. All of them belong to the SP 500 index."
   ]
  },
  {
   "cell_type": "code",
   "execution_count": 2,
   "id": "0aa813ea-8f43-40bd-9b7e-b80dbf0dbf2a",
   "metadata": {},
   "outputs": [],
   "source": [
    "UNIVERSE = ['ABBV-US', 'AMGN-US', 'ABT-US', 'JNJ-US', 'MMM-US', 'MRK-US', 'PFE-US', 'TMO-US']"
   ]
  },
  {
   "cell_type": "markdown",
   "id": "54dc3e75-2edf-4498-bfeb-2326f17dab91",
   "metadata": {},
   "source": [
    "---\n",
    "## 2. Read the SP 500 constituents\n",
    "The excel file `listing.xlsx` constains the constituents of the SP500 including some company-level data we will need later."
   ]
  },
  {
   "cell_type": "code",
   "execution_count": 3,
   "id": "faf948ad-0713-4b9c-8024-466be8c27fff",
   "metadata": {},
   "outputs": [
    {
     "data": {
      "text/html": [
       "<div>\n",
       "<style scoped>\n",
       "    .dataframe tbody tr th:only-of-type {\n",
       "        vertical-align: middle;\n",
       "    }\n",
       "\n",
       "    .dataframe tbody tr th {\n",
       "        vertical-align: top;\n",
       "    }\n",
       "\n",
       "    .dataframe thead th {\n",
       "        text-align: right;\n",
       "    }\n",
       "</style>\n",
       "<table border=\"1\" class=\"dataframe\">\n",
       "  <thead>\n",
       "    <tr style=\"text-align: right;\">\n",
       "      <th></th>\n",
       "      <th>Date</th>\n",
       "      <th>Exchange</th>\n",
       "      <th>Security Type</th>\n",
       "      <th>Company Name</th>\n",
       "      <th>RBICS Economy</th>\n",
       "      <th>RBICS Sector</th>\n",
       "      <th>RBICS Subsector</th>\n",
       "      <th>Industry Group</th>\n",
       "      <th>Industry</th>\n",
       "      <th>Subindustry</th>\n",
       "      <th>Common Shares Outstanding - Security Level</th>\n",
       "      <th>Shares - Company Level</th>\n",
       "      <th>Market Value - Company Level</th>\n",
       "    </tr>\n",
       "    <tr>\n",
       "      <th>Symbol</th>\n",
       "      <th></th>\n",
       "      <th></th>\n",
       "      <th></th>\n",
       "      <th></th>\n",
       "      <th></th>\n",
       "      <th></th>\n",
       "      <th></th>\n",
       "      <th></th>\n",
       "      <th></th>\n",
       "      <th></th>\n",
       "      <th></th>\n",
       "      <th></th>\n",
       "      <th></th>\n",
       "    </tr>\n",
       "  </thead>\n",
       "  <tbody>\n",
       "    <tr>\n",
       "      <th>PARA-US</th>\n",
       "      <td>2022-09-16</td>\n",
       "      <td>NASDAQ</td>\n",
       "      <td>SHARE</td>\n",
       "      <td>Paramount Global Class B</td>\n",
       "      <td>Consumer Services</td>\n",
       "      <td>Media and Publishing Services</td>\n",
       "      <td>Media and Publishing Services</td>\n",
       "      <td>Entertainment and Programming Providers</td>\n",
       "      <td>Other Entertainment and Programming Providers</td>\n",
       "      <td>General Entertainment and Programming</td>\n",
       "      <td>608.42145</td>\n",
       "      <td>649.12690</td>\n",
       "      <td>15090.597279</td>\n",
       "    </tr>\n",
       "    <tr>\n",
       "      <th>CARR-US</th>\n",
       "      <td>2022-09-16</td>\n",
       "      <td>NYSE</td>\n",
       "      <td>SHARE</td>\n",
       "      <td>Carrier Global Corp.</td>\n",
       "      <td>Industrials</td>\n",
       "      <td>Industrial Manufacturing</td>\n",
       "      <td>Machinery Manufacturing</td>\n",
       "      <td>Air, Liquid and Gas Control Equipment</td>\n",
       "      <td>Environmental Control Machinery/Equipment Prod...</td>\n",
       "      <td>Heating, Ventilation and Air Conditioning Prod...</td>\n",
       "      <td>841.58344</td>\n",
       "      <td>841.58344</td>\n",
       "      <td>33999.972061</td>\n",
       "    </tr>\n",
       "    <tr>\n",
       "      <th>OTIS-US</th>\n",
       "      <td>2022-09-16</td>\n",
       "      <td>NYSE</td>\n",
       "      <td>SHARE</td>\n",
       "      <td>Otis Worldwide Corporation</td>\n",
       "      <td>Business Services</td>\n",
       "      <td>Business Services</td>\n",
       "      <td>Business Support Services</td>\n",
       "      <td>Facilities and Other Support Services</td>\n",
       "      <td>Facilities Support Services</td>\n",
       "      <td>Building Maintenance and Engineering Services</td>\n",
       "      <td>422.79443</td>\n",
       "      <td>422.79443</td>\n",
       "      <td>29143.220437</td>\n",
       "    </tr>\n",
       "    <tr>\n",
       "      <th>MTCH-US</th>\n",
       "      <td>2022-09-16</td>\n",
       "      <td>NASDAQ</td>\n",
       "      <td>SHARE</td>\n",
       "      <td>Match Group, Inc.</td>\n",
       "      <td>Technology</td>\n",
       "      <td>Software and Consulting</td>\n",
       "      <td>Internet and Data Services</td>\n",
       "      <td>Consumer Data and Services</td>\n",
       "      <td>Information and News Content Providers and Sites</td>\n",
       "      <td>Other Classifieds and Directories Media and Sites</td>\n",
       "      <td>282.98645</td>\n",
       "      <td>282.98645</td>\n",
       "      <td>16373.596181</td>\n",
       "    </tr>\n",
       "    <tr>\n",
       "      <th>WBD-US</th>\n",
       "      <td>2022-09-16</td>\n",
       "      <td>NASDAQ</td>\n",
       "      <td>SHARE</td>\n",
       "      <td>Warner Bros. Discovery, Inc. Series A</td>\n",
       "      <td>Consumer Services</td>\n",
       "      <td>Media and Publishing Services</td>\n",
       "      <td>Media and Publishing Services</td>\n",
       "      <td>Entertainment and Programming Providers</td>\n",
       "      <td>Television Cable and Broadcast Networks</td>\n",
       "      <td>US TV Cable and Broadcast Networks</td>\n",
       "      <td>2427.59280</td>\n",
       "      <td>2427.59280</td>\n",
       "      <td>31971.397011</td>\n",
       "    </tr>\n",
       "  </tbody>\n",
       "</table>\n",
       "</div>"
      ],
      "text/plain": [
       "              Date Exchange Security Type  \\\n",
       "Symbol                                      \n",
       "PARA-US 2022-09-16   NASDAQ         SHARE   \n",
       "CARR-US 2022-09-16     NYSE         SHARE   \n",
       "OTIS-US 2022-09-16     NYSE         SHARE   \n",
       "MTCH-US 2022-09-16   NASDAQ         SHARE   \n",
       "WBD-US  2022-09-16   NASDAQ         SHARE   \n",
       "\n",
       "                                  Company Name      RBICS Economy  \\\n",
       "Symbol                                                              \n",
       "PARA-US               Paramount Global Class B  Consumer Services   \n",
       "CARR-US                   Carrier Global Corp.        Industrials   \n",
       "OTIS-US             Otis Worldwide Corporation  Business Services   \n",
       "MTCH-US                      Match Group, Inc.         Technology   \n",
       "WBD-US   Warner Bros. Discovery, Inc. Series A  Consumer Services   \n",
       "\n",
       "                          RBICS Sector                RBICS Subsector  \\\n",
       "Symbol                                                                  \n",
       "PARA-US  Media and Publishing Services  Media and Publishing Services   \n",
       "CARR-US       Industrial Manufacturing        Machinery Manufacturing   \n",
       "OTIS-US              Business Services      Business Support Services   \n",
       "MTCH-US        Software and Consulting     Internet and Data Services   \n",
       "WBD-US   Media and Publishing Services  Media and Publishing Services   \n",
       "\n",
       "                                  Industry Group  \\\n",
       "Symbol                                             \n",
       "PARA-US  Entertainment and Programming Providers   \n",
       "CARR-US    Air, Liquid and Gas Control Equipment   \n",
       "OTIS-US    Facilities and Other Support Services   \n",
       "MTCH-US               Consumer Data and Services   \n",
       "WBD-US   Entertainment and Programming Providers   \n",
       "\n",
       "                                                  Industry  \\\n",
       "Symbol                                                       \n",
       "PARA-US      Other Entertainment and Programming Providers   \n",
       "CARR-US  Environmental Control Machinery/Equipment Prod...   \n",
       "OTIS-US                        Facilities Support Services   \n",
       "MTCH-US   Information and News Content Providers and Sites   \n",
       "WBD-US             Television Cable and Broadcast Networks   \n",
       "\n",
       "                                               Subindustry  \\\n",
       "Symbol                                                       \n",
       "PARA-US              General Entertainment and Programming   \n",
       "CARR-US  Heating, Ventilation and Air Conditioning Prod...   \n",
       "OTIS-US      Building Maintenance and Engineering Services   \n",
       "MTCH-US  Other Classifieds and Directories Media and Sites   \n",
       "WBD-US                  US TV Cable and Broadcast Networks   \n",
       "\n",
       "         Common Shares Outstanding - Security Level  Shares - Company Level  \\\n",
       "Symbol                                                                        \n",
       "PARA-US                                   608.42145               649.12690   \n",
       "CARR-US                                   841.58344               841.58344   \n",
       "OTIS-US                                   422.79443               422.79443   \n",
       "MTCH-US                                   282.98645               282.98645   \n",
       "WBD-US                                   2427.59280              2427.59280   \n",
       "\n",
       "         Market Value - Company Level  \n",
       "Symbol                                 \n",
       "PARA-US                  15090.597279  \n",
       "CARR-US                  33999.972061  \n",
       "OTIS-US                  29143.220437  \n",
       "MTCH-US                  16373.596181  \n",
       "WBD-US                   31971.397011  "
      ]
     },
     "execution_count": 3,
     "metadata": {},
     "output_type": "execute_result"
    }
   ],
   "source": [
    "listing = pd.read_excel('listing.xlsx', index_col='Id')\n",
    "listing = listing.set_index('Symbol')\n",
    "listing.tail()"
   ]
  },
  {
   "cell_type": "markdown",
   "id": "fa79c4b5-534a-46bd-8142-0629ad3881ba",
   "metadata": {},
   "source": [
    "---\n",
    "## 3. Sunburst chart of industry and market capitalization\n",
    "Let's generate a [sunburst chart](https://plotly.com/python/sunburst-charts/) of the SP 500 by industry and market capitalization. It is interactive!"
   ]
  },
  {
   "cell_type": "code",
   "execution_count": 4,
   "id": "3b258020-1141-497f-bb5c-9f6c6bdc4f53",
   "metadata": {},
   "outputs": [
    {
     "data": {
      "application/vnd.plotly.v1+json": {
       "config": {
        "plotlyServerURL": "https://plot.ly"
       },
       "data": [
        {
         "branchvalues": "total",
         "domain": {
          "x": [
           0,
           1
          ],
          "y": [
           0,
           1
          ]
         },
         "hovertemplate": "labels=%{label}<br>Market Value - Company Level=%{value}<br>parent=%{parent}<br>id=%{id}<extra></extra>",
         "ids": [
          "Finance/Banking",
          "Healthcare/Biopharmaceuticals",
          "Business Services/Business Services",
          "Non-Energy Materials/Chemical, Plastic and Rubber Materials",
          "Consumer Cyclicals/Consumer Goods",
          "Consumer Cyclicals/Consumer Retail",
          "Consumer Cyclicals/Consumer Vehicles and Parts",
          "Energy/Downstream and Midstream Energy",
          "Technology/Electronic Components and Manufacturing",
          "Consumer Non-Cyclicals/Food and Staples Retail",
          "Consumer Non-Cyclicals/Food and Tobacco Production",
          "Technology/Hardware",
          "Healthcare/Healthcare Equipment",
          "Healthcare/Healthcare Services",
          "Consumer Services/Hospitality Services",
          "Consumer Non-Cyclicals/Household Products",
          "Industrials/Industrial Manufacturing",
          "Industrials/Industrial Services",
          "Finance/Insurance",
          "Energy/Integrated Oil and Gas Exploration and Production",
          "Finance/Investment Services",
          "Non-Energy Materials/Manufactured Products",
          "Consumer Services/Media and Publishing Services",
          "Non-Energy Materials/Mining and Mineral Products",
          "Consumer Cyclicals/Miscellaneous Retail",
          "Finance/Real Estate",
          "Technology/Software and Consulting",
          "Finance/Specialty Finance and Services",
          "Telecommunications/Telecommunications",
          "Energy/Upstream Energy",
          "Utilities/Utilities",
          "Business Services",
          "Consumer Cyclicals",
          "Consumer Non-Cyclicals",
          "Consumer Services",
          "Energy",
          "Finance",
          "Healthcare",
          "Industrials",
          "Non-Energy Materials",
          "Technology",
          "Telecommunications",
          "Utilities"
         ],
         "labels": [
          "Banking",
          "Biopharmaceuticals",
          "Business Services",
          "Chemical, Plastic and Rubber Materials",
          "Consumer Goods",
          "Consumer Retail",
          "Consumer Vehicles and Parts",
          "Downstream and Midstream Energy",
          "Electronic Components and Manufacturing",
          "Food and Staples Retail",
          "Food and Tobacco Production",
          "Hardware",
          "Healthcare Equipment",
          "Healthcare Services",
          "Hospitality Services",
          "Household Products",
          "Industrial Manufacturing",
          "Industrial Services",
          "Insurance",
          "Integrated Oil and Gas Exploration and Production",
          "Investment Services",
          "Manufactured Products",
          "Media and Publishing Services",
          "Mining and Mineral Products",
          "Miscellaneous Retail",
          "Real Estate",
          "Software and Consulting",
          "Specialty Finance and Services",
          "Telecommunications",
          "Upstream Energy",
          "Utilities",
          "Business Services",
          "Consumer Cyclicals",
          "Consumer Non-Cyclicals",
          "Consumer Services",
          "Energy",
          "Finance",
          "Healthcare",
          "Industrials",
          "Non-Energy Materials",
          "Technology",
          "Telecommunications",
          "Utilities"
         ],
         "name": "",
         "parents": [
          "Finance",
          "Healthcare",
          "Business Services",
          "Non-Energy Materials",
          "Consumer Cyclicals",
          "Consumer Cyclicals",
          "Consumer Cyclicals",
          "Energy",
          "Technology",
          "Consumer Non-Cyclicals",
          "Consumer Non-Cyclicals",
          "Technology",
          "Healthcare",
          "Healthcare",
          "Consumer Services",
          "Consumer Non-Cyclicals",
          "Industrials",
          "Industrials",
          "Finance",
          "Energy",
          "Finance",
          "Non-Energy Materials",
          "Consumer Services",
          "Non-Energy Materials",
          "Consumer Cyclicals",
          "Finance",
          "Technology",
          "Finance",
          "Telecommunications",
          "Energy",
          "Utilities",
          "",
          "",
          "",
          "",
          "",
          "",
          "",
          "",
          "",
          "",
          "",
          ""
         ],
         "type": "sunburst",
         "values": [
          926471.6667406322,
          2082261.1524868996,
          582991.3480650621,
          593931.2713791814,
          225130.94110597833,
          433731.58993832977,
          1105933.7627807301,
          237964.15585974112,
          1635884.8793751518,
          2405371.408500284,
          1310981.3661276398,
          2920941.377016362,
          1112251.5266386461,
          1581321.209605629,
          746811.4387587484,
          581570.6860801338,
          1637929.059356991,
          740796.419328302,
          1254357.617708458,
          709620.1217061952,
          1245920.4913225977,
          160550.73594235402,
          305832.4936873219,
          191694.50072596688,
          237852.44795013807,
          954907.3309039935,
          6762161.020164753,
          1226397.7032447546,
          697492.8452592073,
          609684.446394731,
          1055046.6576912622,
          582991.3480650621,
          2002648.7417751765,
          4297923.4607080575,
          1052643.9324460702,
          1557268.7239606674,
          5608054.809920436,
          4775833.888731174,
          2378725.478685293,
          946176.5080475024,
          11318987.276556266,
          697492.8452592073,
          1055046.6576912622
         ]
        }
       ],
       "layout": {
        "height": 800,
        "legend": {
         "tracegroupgap": 0
        },
        "margin": {
         "t": 60
        },
        "template": {
         "data": {
          "bar": [
           {
            "error_x": {
             "color": "#2a3f5f"
            },
            "error_y": {
             "color": "#2a3f5f"
            },
            "marker": {
             "line": {
              "color": "#E5ECF6",
              "width": 0.5
             },
             "pattern": {
              "fillmode": "overlay",
              "size": 10,
              "solidity": 0.2
             }
            },
            "type": "bar"
           }
          ],
          "barpolar": [
           {
            "marker": {
             "line": {
              "color": "#E5ECF6",
              "width": 0.5
             },
             "pattern": {
              "fillmode": "overlay",
              "size": 10,
              "solidity": 0.2
             }
            },
            "type": "barpolar"
           }
          ],
          "carpet": [
           {
            "aaxis": {
             "endlinecolor": "#2a3f5f",
             "gridcolor": "white",
             "linecolor": "white",
             "minorgridcolor": "white",
             "startlinecolor": "#2a3f5f"
            },
            "baxis": {
             "endlinecolor": "#2a3f5f",
             "gridcolor": "white",
             "linecolor": "white",
             "minorgridcolor": "white",
             "startlinecolor": "#2a3f5f"
            },
            "type": "carpet"
           }
          ],
          "choropleth": [
           {
            "colorbar": {
             "outlinewidth": 0,
             "ticks": ""
            },
            "type": "choropleth"
           }
          ],
          "contour": [
           {
            "colorbar": {
             "outlinewidth": 0,
             "ticks": ""
            },
            "colorscale": [
             [
              0,
              "#0d0887"
             ],
             [
              0.1111111111111111,
              "#46039f"
             ],
             [
              0.2222222222222222,
              "#7201a8"
             ],
             [
              0.3333333333333333,
              "#9c179e"
             ],
             [
              0.4444444444444444,
              "#bd3786"
             ],
             [
              0.5555555555555556,
              "#d8576b"
             ],
             [
              0.6666666666666666,
              "#ed7953"
             ],
             [
              0.7777777777777778,
              "#fb9f3a"
             ],
             [
              0.8888888888888888,
              "#fdca26"
             ],
             [
              1,
              "#f0f921"
             ]
            ],
            "type": "contour"
           }
          ],
          "contourcarpet": [
           {
            "colorbar": {
             "outlinewidth": 0,
             "ticks": ""
            },
            "type": "contourcarpet"
           }
          ],
          "heatmap": [
           {
            "colorbar": {
             "outlinewidth": 0,
             "ticks": ""
            },
            "colorscale": [
             [
              0,
              "#0d0887"
             ],
             [
              0.1111111111111111,
              "#46039f"
             ],
             [
              0.2222222222222222,
              "#7201a8"
             ],
             [
              0.3333333333333333,
              "#9c179e"
             ],
             [
              0.4444444444444444,
              "#bd3786"
             ],
             [
              0.5555555555555556,
              "#d8576b"
             ],
             [
              0.6666666666666666,
              "#ed7953"
             ],
             [
              0.7777777777777778,
              "#fb9f3a"
             ],
             [
              0.8888888888888888,
              "#fdca26"
             ],
             [
              1,
              "#f0f921"
             ]
            ],
            "type": "heatmap"
           }
          ],
          "heatmapgl": [
           {
            "colorbar": {
             "outlinewidth": 0,
             "ticks": ""
            },
            "colorscale": [
             [
              0,
              "#0d0887"
             ],
             [
              0.1111111111111111,
              "#46039f"
             ],
             [
              0.2222222222222222,
              "#7201a8"
             ],
             [
              0.3333333333333333,
              "#9c179e"
             ],
             [
              0.4444444444444444,
              "#bd3786"
             ],
             [
              0.5555555555555556,
              "#d8576b"
             ],
             [
              0.6666666666666666,
              "#ed7953"
             ],
             [
              0.7777777777777778,
              "#fb9f3a"
             ],
             [
              0.8888888888888888,
              "#fdca26"
             ],
             [
              1,
              "#f0f921"
             ]
            ],
            "type": "heatmapgl"
           }
          ],
          "histogram": [
           {
            "marker": {
             "pattern": {
              "fillmode": "overlay",
              "size": 10,
              "solidity": 0.2
             }
            },
            "type": "histogram"
           }
          ],
          "histogram2d": [
           {
            "colorbar": {
             "outlinewidth": 0,
             "ticks": ""
            },
            "colorscale": [
             [
              0,
              "#0d0887"
             ],
             [
              0.1111111111111111,
              "#46039f"
             ],
             [
              0.2222222222222222,
              "#7201a8"
             ],
             [
              0.3333333333333333,
              "#9c179e"
             ],
             [
              0.4444444444444444,
              "#bd3786"
             ],
             [
              0.5555555555555556,
              "#d8576b"
             ],
             [
              0.6666666666666666,
              "#ed7953"
             ],
             [
              0.7777777777777778,
              "#fb9f3a"
             ],
             [
              0.8888888888888888,
              "#fdca26"
             ],
             [
              1,
              "#f0f921"
             ]
            ],
            "type": "histogram2d"
           }
          ],
          "histogram2dcontour": [
           {
            "colorbar": {
             "outlinewidth": 0,
             "ticks": ""
            },
            "colorscale": [
             [
              0,
              "#0d0887"
             ],
             [
              0.1111111111111111,
              "#46039f"
             ],
             [
              0.2222222222222222,
              "#7201a8"
             ],
             [
              0.3333333333333333,
              "#9c179e"
             ],
             [
              0.4444444444444444,
              "#bd3786"
             ],
             [
              0.5555555555555556,
              "#d8576b"
             ],
             [
              0.6666666666666666,
              "#ed7953"
             ],
             [
              0.7777777777777778,
              "#fb9f3a"
             ],
             [
              0.8888888888888888,
              "#fdca26"
             ],
             [
              1,
              "#f0f921"
             ]
            ],
            "type": "histogram2dcontour"
           }
          ],
          "mesh3d": [
           {
            "colorbar": {
             "outlinewidth": 0,
             "ticks": ""
            },
            "type": "mesh3d"
           }
          ],
          "parcoords": [
           {
            "line": {
             "colorbar": {
              "outlinewidth": 0,
              "ticks": ""
             }
            },
            "type": "parcoords"
           }
          ],
          "pie": [
           {
            "automargin": true,
            "type": "pie"
           }
          ],
          "scatter": [
           {
            "fillpattern": {
             "fillmode": "overlay",
             "size": 10,
             "solidity": 0.2
            },
            "type": "scatter"
           }
          ],
          "scatter3d": [
           {
            "line": {
             "colorbar": {
              "outlinewidth": 0,
              "ticks": ""
             }
            },
            "marker": {
             "colorbar": {
              "outlinewidth": 0,
              "ticks": ""
             }
            },
            "type": "scatter3d"
           }
          ],
          "scattercarpet": [
           {
            "marker": {
             "colorbar": {
              "outlinewidth": 0,
              "ticks": ""
             }
            },
            "type": "scattercarpet"
           }
          ],
          "scattergeo": [
           {
            "marker": {
             "colorbar": {
              "outlinewidth": 0,
              "ticks": ""
             }
            },
            "type": "scattergeo"
           }
          ],
          "scattergl": [
           {
            "marker": {
             "colorbar": {
              "outlinewidth": 0,
              "ticks": ""
             }
            },
            "type": "scattergl"
           }
          ],
          "scattermapbox": [
           {
            "marker": {
             "colorbar": {
              "outlinewidth": 0,
              "ticks": ""
             }
            },
            "type": "scattermapbox"
           }
          ],
          "scatterpolar": [
           {
            "marker": {
             "colorbar": {
              "outlinewidth": 0,
              "ticks": ""
             }
            },
            "type": "scatterpolar"
           }
          ],
          "scatterpolargl": [
           {
            "marker": {
             "colorbar": {
              "outlinewidth": 0,
              "ticks": ""
             }
            },
            "type": "scatterpolargl"
           }
          ],
          "scatterternary": [
           {
            "marker": {
             "colorbar": {
              "outlinewidth": 0,
              "ticks": ""
             }
            },
            "type": "scatterternary"
           }
          ],
          "surface": [
           {
            "colorbar": {
             "outlinewidth": 0,
             "ticks": ""
            },
            "colorscale": [
             [
              0,
              "#0d0887"
             ],
             [
              0.1111111111111111,
              "#46039f"
             ],
             [
              0.2222222222222222,
              "#7201a8"
             ],
             [
              0.3333333333333333,
              "#9c179e"
             ],
             [
              0.4444444444444444,
              "#bd3786"
             ],
             [
              0.5555555555555556,
              "#d8576b"
             ],
             [
              0.6666666666666666,
              "#ed7953"
             ],
             [
              0.7777777777777778,
              "#fb9f3a"
             ],
             [
              0.8888888888888888,
              "#fdca26"
             ],
             [
              1,
              "#f0f921"
             ]
            ],
            "type": "surface"
           }
          ],
          "table": [
           {
            "cells": {
             "fill": {
              "color": "#EBF0F8"
             },
             "line": {
              "color": "white"
             }
            },
            "header": {
             "fill": {
              "color": "#C8D4E3"
             },
             "line": {
              "color": "white"
             }
            },
            "type": "table"
           }
          ]
         },
         "layout": {
          "annotationdefaults": {
           "arrowcolor": "#2a3f5f",
           "arrowhead": 0,
           "arrowwidth": 1
          },
          "autotypenumbers": "strict",
          "coloraxis": {
           "colorbar": {
            "outlinewidth": 0,
            "ticks": ""
           }
          },
          "colorscale": {
           "diverging": [
            [
             0,
             "#8e0152"
            ],
            [
             0.1,
             "#c51b7d"
            ],
            [
             0.2,
             "#de77ae"
            ],
            [
             0.3,
             "#f1b6da"
            ],
            [
             0.4,
             "#fde0ef"
            ],
            [
             0.5,
             "#f7f7f7"
            ],
            [
             0.6,
             "#e6f5d0"
            ],
            [
             0.7,
             "#b8e186"
            ],
            [
             0.8,
             "#7fbc41"
            ],
            [
             0.9,
             "#4d9221"
            ],
            [
             1,
             "#276419"
            ]
           ],
           "sequential": [
            [
             0,
             "#0d0887"
            ],
            [
             0.1111111111111111,
             "#46039f"
            ],
            [
             0.2222222222222222,
             "#7201a8"
            ],
            [
             0.3333333333333333,
             "#9c179e"
            ],
            [
             0.4444444444444444,
             "#bd3786"
            ],
            [
             0.5555555555555556,
             "#d8576b"
            ],
            [
             0.6666666666666666,
             "#ed7953"
            ],
            [
             0.7777777777777778,
             "#fb9f3a"
            ],
            [
             0.8888888888888888,
             "#fdca26"
            ],
            [
             1,
             "#f0f921"
            ]
           ],
           "sequentialminus": [
            [
             0,
             "#0d0887"
            ],
            [
             0.1111111111111111,
             "#46039f"
            ],
            [
             0.2222222222222222,
             "#7201a8"
            ],
            [
             0.3333333333333333,
             "#9c179e"
            ],
            [
             0.4444444444444444,
             "#bd3786"
            ],
            [
             0.5555555555555556,
             "#d8576b"
            ],
            [
             0.6666666666666666,
             "#ed7953"
            ],
            [
             0.7777777777777778,
             "#fb9f3a"
            ],
            [
             0.8888888888888888,
             "#fdca26"
            ],
            [
             1,
             "#f0f921"
            ]
           ]
          },
          "colorway": [
           "#636efa",
           "#EF553B",
           "#00cc96",
           "#ab63fa",
           "#FFA15A",
           "#19d3f3",
           "#FF6692",
           "#B6E880",
           "#FF97FF",
           "#FECB52"
          ],
          "font": {
           "color": "#2a3f5f"
          },
          "geo": {
           "bgcolor": "white",
           "lakecolor": "white",
           "landcolor": "#E5ECF6",
           "showlakes": true,
           "showland": true,
           "subunitcolor": "white"
          },
          "hoverlabel": {
           "align": "left"
          },
          "hovermode": "closest",
          "mapbox": {
           "style": "light"
          },
          "paper_bgcolor": "white",
          "plot_bgcolor": "#E5ECF6",
          "polar": {
           "angularaxis": {
            "gridcolor": "white",
            "linecolor": "white",
            "ticks": ""
           },
           "bgcolor": "#E5ECF6",
           "radialaxis": {
            "gridcolor": "white",
            "linecolor": "white",
            "ticks": ""
           }
          },
          "scene": {
           "xaxis": {
            "backgroundcolor": "#E5ECF6",
            "gridcolor": "white",
            "gridwidth": 2,
            "linecolor": "white",
            "showbackground": true,
            "ticks": "",
            "zerolinecolor": "white"
           },
           "yaxis": {
            "backgroundcolor": "#E5ECF6",
            "gridcolor": "white",
            "gridwidth": 2,
            "linecolor": "white",
            "showbackground": true,
            "ticks": "",
            "zerolinecolor": "white"
           },
           "zaxis": {
            "backgroundcolor": "#E5ECF6",
            "gridcolor": "white",
            "gridwidth": 2,
            "linecolor": "white",
            "showbackground": true,
            "ticks": "",
            "zerolinecolor": "white"
           }
          },
          "shapedefaults": {
           "line": {
            "color": "#2a3f5f"
           }
          },
          "ternary": {
           "aaxis": {
            "gridcolor": "white",
            "linecolor": "white",
            "ticks": ""
           },
           "baxis": {
            "gridcolor": "white",
            "linecolor": "white",
            "ticks": ""
           },
           "bgcolor": "#E5ECF6",
           "caxis": {
            "gridcolor": "white",
            "linecolor": "white",
            "ticks": ""
           }
          },
          "title": {
           "x": 0.05
          },
          "xaxis": {
           "automargin": true,
           "gridcolor": "white",
           "linecolor": "white",
           "ticks": "",
           "title": {
            "standoff": 15
           },
           "zerolinecolor": "white",
           "zerolinewidth": 2
          },
          "yaxis": {
           "automargin": true,
           "gridcolor": "white",
           "linecolor": "white",
           "ticks": "",
           "title": {
            "standoff": 15
           },
           "zerolinecolor": "white",
           "zerolinewidth": 2
          }
         }
        },
        "width": 800
       }
      }
     },
     "metadata": {},
     "output_type": "display_data"
    }
   ],
   "source": [
    "fig = px.sunburst(listing,\n",
    "                  path=['RBICS Economy', 'RBICS Sector'], \n",
    "                  values='Market Value - Company Level', \n",
    "                  width=800, height=800)\n",
    "fig.show()"
   ]
  },
  {
   "cell_type": "markdown",
   "id": "d76e897e-686d-464e-9d4e-005467f27b92",
   "metadata": {},
   "source": [
    "---\n",
    "## 4. Read stock prices\n",
    "The excel `prices.xlsx` contains daily price, return and volume data."
   ]
  },
  {
   "cell_type": "code",
   "execution_count": 5,
   "id": "f002c4d3-738d-431e-99be-c47b808b0854",
   "metadata": {},
   "outputs": [
    {
     "data": {
      "text/html": [
       "<div>\n",
       "<style scoped>\n",
       "    .dataframe tbody tr th:only-of-type {\n",
       "        vertical-align: middle;\n",
       "    }\n",
       "\n",
       "    .dataframe tbody tr th {\n",
       "        vertical-align: top;\n",
       "    }\n",
       "\n",
       "    .dataframe thead th {\n",
       "        text-align: right;\n",
       "    }\n",
       "</style>\n",
       "<table border=\"1\" class=\"dataframe\">\n",
       "  <thead>\n",
       "    <tr style=\"text-align: right;\">\n",
       "      <th></th>\n",
       "      <th>symbol</th>\n",
       "      <th>date</th>\n",
       "      <th>Price</th>\n",
       "      <th>Adjusted Price</th>\n",
       "      <th>Price Change</th>\n",
       "      <th>Price Returns Dividends Excluded</th>\n",
       "      <th>Price Returns Dividends Received</th>\n",
       "      <th>Price Returns Dividends Reinvested</th>\n",
       "      <th>Volume</th>\n",
       "    </tr>\n",
       "    <tr>\n",
       "      <th>Id</th>\n",
       "      <th></th>\n",
       "      <th></th>\n",
       "      <th></th>\n",
       "      <th></th>\n",
       "      <th></th>\n",
       "      <th></th>\n",
       "      <th></th>\n",
       "      <th></th>\n",
       "      <th></th>\n",
       "    </tr>\n",
       "  </thead>\n",
       "  <tbody>\n",
       "    <tr>\n",
       "      <th>1998</th>\n",
       "      <td>TMO-US</td>\n",
       "      <td>2022-09-13</td>\n",
       "      <td>559.82</td>\n",
       "      <td>559.52</td>\n",
       "      <td>-3.344327</td>\n",
       "      <td>-3.344327</td>\n",
       "      <td>-3.344327</td>\n",
       "      <td>-3.344327</td>\n",
       "      <td>1642.870</td>\n",
       "    </tr>\n",
       "    <tr>\n",
       "      <th>1999</th>\n",
       "      <td>TMO-US</td>\n",
       "      <td>2022-09-14</td>\n",
       "      <td>558.13</td>\n",
       "      <td>558.13</td>\n",
       "      <td>-0.301886</td>\n",
       "      <td>-0.301886</td>\n",
       "      <td>-0.248295</td>\n",
       "      <td>-0.248295</td>\n",
       "      <td>1139.399</td>\n",
       "    </tr>\n",
       "    <tr>\n",
       "      <th>2000</th>\n",
       "      <td>TMO-US</td>\n",
       "      <td>2022-09-15</td>\n",
       "      <td>551.98</td>\n",
       "      <td>551.98</td>\n",
       "      <td>-1.101899</td>\n",
       "      <td>-1.101899</td>\n",
       "      <td>-1.101899</td>\n",
       "      <td>-1.101899</td>\n",
       "      <td>890.450</td>\n",
       "    </tr>\n",
       "  </tbody>\n",
       "</table>\n",
       "</div>"
      ],
      "text/plain": [
       "      symbol       date   Price  Adjusted Price  Price Change  \\\n",
       "Id                                                              \n",
       "1998  TMO-US 2022-09-13  559.82          559.52     -3.344327   \n",
       "1999  TMO-US 2022-09-14  558.13          558.13     -0.301886   \n",
       "2000  TMO-US 2022-09-15  551.98          551.98     -1.101899   \n",
       "\n",
       "      Price Returns Dividends Excluded  Price Returns Dividends Received  \\\n",
       "Id                                                                         \n",
       "1998                         -3.344327                         -3.344327   \n",
       "1999                         -0.301886                         -0.248295   \n",
       "2000                         -1.101899                         -1.101899   \n",
       "\n",
       "      Price Returns Dividends Reinvested    Volume  \n",
       "Id                                                  \n",
       "1998                           -3.344327  1642.870  \n",
       "1999                           -0.248295  1139.399  \n",
       "2000                           -1.101899   890.450  "
      ]
     },
     "execution_count": 5,
     "metadata": {},
     "output_type": "execute_result"
    }
   ],
   "source": [
    "all_prices = pd.read_excel('prices.xlsx', index_col='Id')\n",
    "all_prices.tail(3)"
   ]
  },
  {
   "cell_type": "markdown",
   "id": "f3069fb5-a056-4971-836b-d2f1b384a2d6",
   "metadata": {},
   "source": [
    "---\n",
    "## 5. Extract prices for a single company\n",
    "The table contains data in long-format that belongs to many companies at different dates. How can we extract the prices of a given company?  \n",
    "Remember to set an index that is unique and representative of each row (the date)."
   ]
  },
  {
   "cell_type": "code",
   "execution_count": 6,
   "id": "1cc2414e-9fde-48e5-8bed-19bfa42ac64a",
   "metadata": {},
   "outputs": [
    {
     "data": {
      "text/html": [
       "<div>\n",
       "<style scoped>\n",
       "    .dataframe tbody tr th:only-of-type {\n",
       "        vertical-align: middle;\n",
       "    }\n",
       "\n",
       "    .dataframe tbody tr th {\n",
       "        vertical-align: top;\n",
       "    }\n",
       "\n",
       "    .dataframe thead th {\n",
       "        text-align: right;\n",
       "    }\n",
       "</style>\n",
       "<table border=\"1\" class=\"dataframe\">\n",
       "  <thead>\n",
       "    <tr style=\"text-align: right;\">\n",
       "      <th></th>\n",
       "      <th>symbol</th>\n",
       "      <th>Price</th>\n",
       "      <th>Adjusted Price</th>\n",
       "      <th>Price Change</th>\n",
       "      <th>Price Returns Dividends Excluded</th>\n",
       "      <th>Price Returns Dividends Received</th>\n",
       "      <th>Price Returns Dividends Reinvested</th>\n",
       "      <th>Volume</th>\n",
       "    </tr>\n",
       "    <tr>\n",
       "      <th>date</th>\n",
       "      <th></th>\n",
       "      <th></th>\n",
       "      <th></th>\n",
       "      <th></th>\n",
       "      <th></th>\n",
       "      <th></th>\n",
       "      <th></th>\n",
       "      <th></th>\n",
       "    </tr>\n",
       "  </thead>\n",
       "  <tbody>\n",
       "    <tr>\n",
       "      <th>2022-09-09</th>\n",
       "      <td>JNJ-US</td>\n",
       "      <td>165.71</td>\n",
       "      <td>165.71</td>\n",
       "      <td>0.193489</td>\n",
       "      <td>0.193489</td>\n",
       "      <td>0.193489</td>\n",
       "      <td>0.193489</td>\n",
       "      <td>5501.863</td>\n",
       "    </tr>\n",
       "    <tr>\n",
       "      <th>2022-09-12</th>\n",
       "      <td>JNJ-US</td>\n",
       "      <td>165.64</td>\n",
       "      <td>165.64</td>\n",
       "      <td>-0.042248</td>\n",
       "      <td>-0.042248</td>\n",
       "      <td>-0.042248</td>\n",
       "      <td>-0.042248</td>\n",
       "      <td>6365.306</td>\n",
       "    </tr>\n",
       "    <tr>\n",
       "      <th>2022-09-13</th>\n",
       "      <td>JNJ-US</td>\n",
       "      <td>161.33</td>\n",
       "      <td>161.33</td>\n",
       "      <td>-2.602029</td>\n",
       "      <td>-2.602029</td>\n",
       "      <td>-2.602029</td>\n",
       "      <td>-2.602029</td>\n",
       "      <td>6726.360</td>\n",
       "    </tr>\n",
       "    <tr>\n",
       "      <th>2022-09-14</th>\n",
       "      <td>JNJ-US</td>\n",
       "      <td>164.66</td>\n",
       "      <td>164.66</td>\n",
       "      <td>2.064097</td>\n",
       "      <td>2.064097</td>\n",
       "      <td>2.064097</td>\n",
       "      <td>2.064097</td>\n",
       "      <td>9555.693</td>\n",
       "    </tr>\n",
       "    <tr>\n",
       "      <th>2022-09-15</th>\n",
       "      <td>JNJ-US</td>\n",
       "      <td>165.08</td>\n",
       "      <td>165.08</td>\n",
       "      <td>0.255072</td>\n",
       "      <td>0.255072</td>\n",
       "      <td>0.255072</td>\n",
       "      <td>0.255072</td>\n",
       "      <td>7174.495</td>\n",
       "    </tr>\n",
       "  </tbody>\n",
       "</table>\n",
       "</div>"
      ],
      "text/plain": [
       "            symbol   Price  Adjusted Price  Price Change  \\\n",
       "date                                                       \n",
       "2022-09-09  JNJ-US  165.71          165.71      0.193489   \n",
       "2022-09-12  JNJ-US  165.64          165.64     -0.042248   \n",
       "2022-09-13  JNJ-US  161.33          161.33     -2.602029   \n",
       "2022-09-14  JNJ-US  164.66          164.66      2.064097   \n",
       "2022-09-15  JNJ-US  165.08          165.08      0.255072   \n",
       "\n",
       "            Price Returns Dividends Excluded  \\\n",
       "date                                           \n",
       "2022-09-09                          0.193489   \n",
       "2022-09-12                         -0.042248   \n",
       "2022-09-13                         -2.602029   \n",
       "2022-09-14                          2.064097   \n",
       "2022-09-15                          0.255072   \n",
       "\n",
       "            Price Returns Dividends Received  \\\n",
       "date                                           \n",
       "2022-09-09                          0.193489   \n",
       "2022-09-12                         -0.042248   \n",
       "2022-09-13                         -2.602029   \n",
       "2022-09-14                          2.064097   \n",
       "2022-09-15                          0.255072   \n",
       "\n",
       "            Price Returns Dividends Reinvested    Volume  \n",
       "date                                                      \n",
       "2022-09-09                            0.193489  5501.863  \n",
       "2022-09-12                           -0.042248  6365.306  \n",
       "2022-09-13                           -2.602029  6726.360  \n",
       "2022-09-14                            2.064097  9555.693  \n",
       "2022-09-15                            0.255072  7174.495  "
      ]
     },
     "execution_count": 6,
     "metadata": {},
     "output_type": "execute_result"
    }
   ],
   "source": [
    "# function\n",
    "def get_prices(all_prices, ticker):\n",
    "    df = all_prices[all_prices['symbol'] == ticker]\n",
    "    df = df.set_index('date')\n",
    "    return df\n",
    "\n",
    "# example: retrieve Johnson & Johnson price data\n",
    "df = get_prices(all_prices, 'TMO-US')\n",
    "df.tail()"
   ]
  },
  {
   "cell_type": "markdown",
   "id": "954c182f-036f-40d5-a75b-44f249f3a288",
   "metadata": {},
   "source": [
    "---\n",
    "## 6. Plot prices and volume of a company\n",
    "Let's display in a single chart the prices and volume of a given company.  \n",
    "The price chart is a [scatter plot](https://plotly.com/python/line-and-scatter/) and volume is a [bar plot](https://plotly.com/python/bar-charts/)."
   ]
  },
  {
   "cell_type": "code",
   "execution_count": null,
   "id": "6b1ebb0b-b8e1-4961-b63e-e3e54b263e05",
   "metadata": {},
   "outputs": [],
   "source": [
    "# function\n",
    "def plot_prices(prices, title):\n",
    "    # Create subplots, that is, one chart on top of another\n",
    "    fig = make_subplots(rows=2, cols=1,\n",
    "                        shared_xaxes=True, \n",
    "                        vertical_spacing=0.03, subplot_titles=('Adjusted Price', 'Volume'), \n",
    "                        row_width=[0.2, 0.7])\n",
    "\n",
    "    # top chart: prices\n",
    "    fig.add_trace(go.Scatter(x = prices.index, y = prices['Adjusted Price'], name='Price'), \n",
    "                    row=1, col=1)\n",
    "\n",
    "    # bottom chart: bar plot for volumes\n",
    "    fig.add_trace(go.Bar(x=prices.index, y=prices['Volume'], marker_line_color='red', name='Volume'), row=2, col=1)\n",
    "\n",
    "    # Do not show rangeslider plot \n",
    "    fig.update_layout(xaxis_rangeslider_visible=False, width=1200, height=600, title=title)\n",
    "    fig.show()\n",
    "\n",
    "# example: plot johnson & johnson prices and volume\n",
    "# df is the DataFrame retrieved in the cell above\n",
    "plot_prices(df, 'Prices of Johnson & Johnson')"
   ]
  },
  {
   "cell_type": "markdown",
   "id": "48b99643-bd43-4fc9-988a-5a0843dc8817",
   "metadata": {},
   "source": [
    "---\n",
    "## 7. Read Fundamental Data\n",
    "Let's read the excel files containing the balance sheets, income statements and cash flows.  \n",
    "(Cash flows are not used in the exercise)."
   ]
  },
  {
   "cell_type": "code",
   "execution_count": null,
   "id": "4c84702c-e17a-40da-b35d-3f2737baaa0c",
   "metadata": {},
   "outputs": [],
   "source": [
    "all_balance_sheets = pd.read_excel('balance_sheets.xlsx', index_col='Id')\n",
    "all_income_statements = pd.read_excel('income_statements.xlsx', index_col='Id')\n",
    "all_cash_flows = pd.read_excel('cash_flows.xlsx', index_col='Id')"
   ]
  },
  {
   "cell_type": "markdown",
   "id": "f5ab3992-1066-4c62-9bdc-fe5a6ee53998",
   "metadata": {},
   "source": [
    "---\n",
    "## 8. Multiples: DO YOUR MAGIC HERE!!\n",
    "Insert below all the code you need to calculate the multiples!\n",
    "\n",
    "$$PE=\\frac{MarketCap}{Earnings_{TTM}}$$\n",
    "\n",
    "$$\\frac{EV}{EBITDA}=\\frac{MarketCap + Debt - Cash}{EBITDA_{TTM}}$$"
   ]
  },
  {
   "cell_type": "code",
   "execution_count": null,
   "id": "20706bea-56c0-48c7-a84c-b3b3cc8a9130",
   "metadata": {},
   "outputs": [],
   "source": [
    "###\n",
    "# YOUR CODE HERE\n",
    "###"
   ]
  },
  {
   "cell_type": "markdown",
   "id": "e1f7f1c6-e535-4598-9a4e-f9ba1c834780",
   "metadata": {},
   "source": [
    "---\n",
    "## 9. The visualization code, as promised\n",
    "Given a `DataFrame` with the correct format and structure, this function will display:\n",
    "- High band\n",
    "- Median\n",
    "- Low band\n",
    "- The multiple(s) of the company(ies) selected in the legend on the right."
   ]
  },
  {
   "cell_type": "code",
   "execution_count": null,
   "id": "6f1426b1-9217-4d72-a337-8e4668033515",
   "metadata": {},
   "outputs": [],
   "source": [
    "def plot_multiple(name, universe, data):\n",
    "\n",
    "    fig = go.Figure()\n",
    "    \n",
    "    fig.add_trace(\n",
    "        go.Scatter(x = data.index,\n",
    "                   y = data['median'],\n",
    "                   line = {'dash': 'solid', 'width':5},\n",
    "                   line_color = 'gray',\n",
    "                   name = 'median',\n",
    "                   opacity = 0.25)\n",
    "    )\n",
    "    \n",
    "    for ticker in universe:\n",
    "        fig.add_trace(\n",
    "            go.Scatter(x = data.index,\n",
    "                       y = data[ticker],\n",
    "                       #line_color = 'red',\n",
    "                       visible='legendonly',\n",
    "                       name = ticker)\n",
    "        )\n",
    "\n",
    "    # Upper Bound\n",
    "    fig.add_trace(\n",
    "        go.Scatter(x = data.index,\n",
    "                   y = data['high'],\n",
    "                   line_color = 'lightgray',\n",
    "                   line = {'dash': 'dot', 'width':1},                   \n",
    "                   name = 'upper band',\n",
    "                   opacity = 0.25)\n",
    "    )\n",
    "\n",
    "    # Lower Bound fill in between with parameter 'fill': 'tonexty'\n",
    "    fig.add_trace(\n",
    "        go.Scatter(x = data.index,\n",
    "                   y = data['low'],\n",
    "                   line_color = 'lightgray',\n",
    "                   line = {'dash': 'dot', 'width':1},\n",
    "                   fill = 'tonexty',\n",
    "                   name = 'lower band',\n",
    "                   opacity = 0.25)\n",
    "    )\n",
    "\n",
    "    # use percentages in axes\n",
    "    fig.update_layout(\n",
    "        width=1200,\n",
    "        height=600,\n",
    "        title=name,\n",
    "        xaxis_title='time',\n",
    "        yaxis_title=name,\n",
    "    )\n",
    "\n",
    "    fig.show()"
   ]
  },
  {
   "cell_type": "markdown",
   "id": "438d7693-95bf-4cd4-b04c-ac9c84b8dfef",
   "metadata": {},
   "source": [
    "Plot multiple: $\\frac{EV}{EBITDA}$"
   ]
  },
  {
   "cell_type": "code",
   "execution_count": null,
   "id": "767a90d6-1247-45d8-9854-ea378e6559e8",
   "metadata": {
    "editable": true,
    "slideshow": {
     "slide_type": ""
    },
    "tags": []
   },
   "outputs": [],
   "source": [
    "# example\n",
    "#plot_multiple('EV/EBITDA', UNIVERSE, all_ev_ebidta)"
   ]
  },
  {
   "cell_type": "markdown",
   "id": "8a8695d4-b779-4628-91e7-5b4418f6b9ac",
   "metadata": {},
   "source": [
    "Plot multiple: $PE=\\frac{Price}{Earnings}$"
   ]
  },
  {
   "cell_type": "code",
   "execution_count": null,
   "id": "bfd090ec-8d98-4252-8c99-4b3299bd73b8",
   "metadata": {
    "editable": true,
    "slideshow": {
     "slide_type": ""
    },
    "tags": []
   },
   "outputs": [],
   "source": [
    "# example\n",
    "#plot_multiple('PE', UNIVERSE, all_pe)"
   ]
  }
 ],
 "metadata": {
  "kernelspec": {
   "display_name": "Python 3 (ipykernel)",
   "language": "python",
   "name": "python3"
  },
  "language_info": {
   "codemirror_mode": {
    "name": "ipython",
    "version": 3
   },
   "file_extension": ".py",
   "mimetype": "text/x-python",
   "name": "python",
   "nbconvert_exporter": "python",
   "pygments_lexer": "ipython3",
   "version": "3.10.12"
  },
  "remote_encode": "gtDEzqQ29uZE"
 },
 "nbformat": 4,
 "nbformat_minor": 5
}
